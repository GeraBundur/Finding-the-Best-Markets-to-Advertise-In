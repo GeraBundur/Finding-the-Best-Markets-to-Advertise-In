{
 "cells": [
  {
   "cell_type": "markdown",
   "metadata": {},
   "source": [
    "# Finding the Best Markets to Advertise In\n",
    "Let's assume that we're working for an an e-learning company that offers courses on programming. Most of our courses are on web and mobile development, but we also cover many other domains, like data science, game development, etc. We want to promote our product and we'd like to invest some money in advertisement. Our goal in this project is to find out the two best markets to advertise our product in.\n",
    "\n",
    "To reach our goal, we could organize surveys for a couple of different markets to find out which would the best choices for advertising. This is very costly, however, and it's a good call to explore cheaper options first.\n",
    "\n",
    "We can try to search existing data that might be relevant for our purpose. One good candidate is the data from freeCodeCamp's 2017 New Coder Survey. freeCodeCamp is a free e-learning platform that offers courses on web development. Because they run a popular Medium publication (over 400,000 followers), their survey attracted new coders with varying interests (not only web development), which is ideal for the purpose of our analysis.\n",
    "\n",
    "The survey data is publicly available in [this GitHub repository](https://github.com/freeCodeCamp/2017-new-coder-survey)."
   ]
  },
  {
   "cell_type": "code",
   "execution_count": 1,
   "metadata": {
    "collapsed": false
   },
   "outputs": [],
   "source": [
    "import numpy as np\n",
    "import pandas as pd\n",
    "import matplotlib.pyplot as plt\n",
    "import seaborn as sns\n",
    "import re\n",
    "\n",
    "pd.options.display.max_columns = 140\n",
    "pd.options.display.max_colwidth = 50\n"
   ]
  },
  {
   "cell_type": "markdown",
   "metadata": {},
   "source": [
    "## Read data"
   ]
  },
  {
   "cell_type": "code",
   "execution_count": 2,
   "metadata": {
    "collapsed": false
   },
   "outputs": [
    {
     "data": {
      "text/plain": [
       "(18175, 136)"
      ]
     },
     "execution_count": 2,
     "metadata": {},
     "output_type": "execute_result"
    }
   ],
   "source": [
    "fcc_survey = pd.read_csv(\"2017-fCC-New-Coders-Survey-Data.csv\", low_memory = False, encoding = \"latin-1\")\n",
    "\n",
    "fcc_survey.shape"
   ]
  },
  {
   "cell_type": "code",
   "execution_count": 3,
   "metadata": {
    "collapsed": false
   },
   "outputs": [
    {
     "data": {
      "text/html": [
       "<div>\n",
       "<style scoped>\n",
       "    .dataframe tbody tr th:only-of-type {\n",
       "        vertical-align: middle;\n",
       "    }\n",
       "\n",
       "    .dataframe tbody tr th {\n",
       "        vertical-align: top;\n",
       "    }\n",
       "\n",
       "    .dataframe thead th {\n",
       "        text-align: right;\n",
       "    }\n",
       "</style>\n",
       "<table border=\"1\" class=\"dataframe\">\n",
       "  <thead>\n",
       "    <tr style=\"text-align: right;\">\n",
       "      <th></th>\n",
       "      <th>Age</th>\n",
       "      <th>AttendedBootcamp</th>\n",
       "      <th>BootcampFinish</th>\n",
       "      <th>BootcampLoanYesNo</th>\n",
       "      <th>BootcampName</th>\n",
       "      <th>BootcampRecommend</th>\n",
       "      <th>ChildrenNumber</th>\n",
       "      <th>CityPopulation</th>\n",
       "      <th>CodeEventConferences</th>\n",
       "      <th>CodeEventDjangoGirls</th>\n",
       "      <th>CodeEventFCC</th>\n",
       "      <th>CodeEventGameJam</th>\n",
       "      <th>CodeEventGirlDev</th>\n",
       "      <th>CodeEventHackathons</th>\n",
       "      <th>CodeEventMeetup</th>\n",
       "      <th>CodeEventNodeSchool</th>\n",
       "      <th>CodeEventNone</th>\n",
       "      <th>CodeEventOther</th>\n",
       "      <th>CodeEventRailsBridge</th>\n",
       "      <th>CodeEventRailsGirls</th>\n",
       "      <th>CodeEventStartUpWknd</th>\n",
       "      <th>CodeEventWkdBootcamps</th>\n",
       "      <th>CodeEventWomenCode</th>\n",
       "      <th>CodeEventWorkshops</th>\n",
       "      <th>CommuteTime</th>\n",
       "      <th>CountryCitizen</th>\n",
       "      <th>CountryLive</th>\n",
       "      <th>EmploymentField</th>\n",
       "      <th>EmploymentFieldOther</th>\n",
       "      <th>EmploymentStatus</th>\n",
       "      <th>EmploymentStatusOther</th>\n",
       "      <th>ExpectedEarning</th>\n",
       "      <th>FinanciallySupporting</th>\n",
       "      <th>FirstDevJob</th>\n",
       "      <th>Gender</th>\n",
       "      <th>GenderOther</th>\n",
       "      <th>HasChildren</th>\n",
       "      <th>HasDebt</th>\n",
       "      <th>HasFinancialDependents</th>\n",
       "      <th>HasHighSpdInternet</th>\n",
       "      <th>HasHomeMortgage</th>\n",
       "      <th>HasServedInMilitary</th>\n",
       "      <th>HasStudentDebt</th>\n",
       "      <th>HomeMortgageOwe</th>\n",
       "      <th>HoursLearning</th>\n",
       "      <th>ID.x</th>\n",
       "      <th>ID.y</th>\n",
       "      <th>Income</th>\n",
       "      <th>IsEthnicMinority</th>\n",
       "      <th>IsReceiveDisabilitiesBenefits</th>\n",
       "      <th>IsSoftwareDev</th>\n",
       "      <th>IsUnderEmployed</th>\n",
       "      <th>JobApplyWhen</th>\n",
       "      <th>JobInterestBackEnd</th>\n",
       "      <th>JobInterestDataEngr</th>\n",
       "      <th>JobInterestDataSci</th>\n",
       "      <th>JobInterestDevOps</th>\n",
       "      <th>JobInterestFrontEnd</th>\n",
       "      <th>JobInterestFullStack</th>\n",
       "      <th>JobInterestGameDev</th>\n",
       "      <th>JobInterestInfoSec</th>\n",
       "      <th>JobInterestMobile</th>\n",
       "      <th>JobInterestOther</th>\n",
       "      <th>JobInterestProjMngr</th>\n",
       "      <th>JobInterestQAEngr</th>\n",
       "      <th>JobInterestUX</th>\n",
       "      <th>JobPref</th>\n",
       "      <th>JobRelocateYesNo</th>\n",
       "      <th>JobRoleInterest</th>\n",
       "      <th>JobWherePref</th>\n",
       "      <th>LanguageAtHome</th>\n",
       "      <th>MaritalStatus</th>\n",
       "      <th>MoneyForLearning</th>\n",
       "      <th>MonthsProgramming</th>\n",
       "      <th>NetworkID</th>\n",
       "      <th>Part1EndTime</th>\n",
       "      <th>Part1StartTime</th>\n",
       "      <th>Part2EndTime</th>\n",
       "      <th>Part2StartTime</th>\n",
       "      <th>PodcastChangeLog</th>\n",
       "      <th>PodcastCodeNewbie</th>\n",
       "      <th>PodcastCodePen</th>\n",
       "      <th>PodcastDevTea</th>\n",
       "      <th>PodcastDotNET</th>\n",
       "      <th>PodcastGiantRobots</th>\n",
       "      <th>PodcastJSAir</th>\n",
       "      <th>PodcastJSJabber</th>\n",
       "      <th>PodcastNone</th>\n",
       "      <th>PodcastOther</th>\n",
       "      <th>PodcastProgThrowdown</th>\n",
       "      <th>PodcastRubyRogues</th>\n",
       "      <th>PodcastSEDaily</th>\n",
       "      <th>PodcastSERadio</th>\n",
       "      <th>PodcastShopTalk</th>\n",
       "      <th>PodcastTalkPython</th>\n",
       "      <th>PodcastTheWebAhead</th>\n",
       "      <th>ResourceCodecademy</th>\n",
       "      <th>ResourceCodeWars</th>\n",
       "      <th>ResourceCoursera</th>\n",
       "      <th>ResourceCSS</th>\n",
       "      <th>ResourceEdX</th>\n",
       "      <th>ResourceEgghead</th>\n",
       "      <th>ResourceFCC</th>\n",
       "      <th>ResourceHackerRank</th>\n",
       "      <th>ResourceKA</th>\n",
       "      <th>ResourceLynda</th>\n",
       "      <th>ResourceMDN</th>\n",
       "      <th>ResourceOdinProj</th>\n",
       "      <th>ResourceOther</th>\n",
       "      <th>ResourcePluralSight</th>\n",
       "      <th>ResourceSkillcrush</th>\n",
       "      <th>ResourceSO</th>\n",
       "      <th>ResourceTreehouse</th>\n",
       "      <th>ResourceUdacity</th>\n",
       "      <th>ResourceUdemy</th>\n",
       "      <th>ResourceW3S</th>\n",
       "      <th>SchoolDegree</th>\n",
       "      <th>SchoolMajor</th>\n",
       "      <th>StudentDebtOwe</th>\n",
       "      <th>YouTubeCodeCourse</th>\n",
       "      <th>YouTubeCodingTrain</th>\n",
       "      <th>YouTubeCodingTut360</th>\n",
       "      <th>YouTubeComputerphile</th>\n",
       "      <th>YouTubeDerekBanas</th>\n",
       "      <th>YouTubeDevTips</th>\n",
       "      <th>YouTubeEngineeredTruth</th>\n",
       "      <th>YouTubeFCC</th>\n",
       "      <th>YouTubeFunFunFunction</th>\n",
       "      <th>YouTubeGoogleDev</th>\n",
       "      <th>YouTubeLearnCode</th>\n",
       "      <th>YouTubeLevelUpTuts</th>\n",
       "      <th>YouTubeMIT</th>\n",
       "      <th>YouTubeMozillaHacks</th>\n",
       "      <th>YouTubeOther</th>\n",
       "      <th>YouTubeSimplilearn</th>\n",
       "      <th>YouTubeTheNewBoston</th>\n",
       "    </tr>\n",
       "  </thead>\n",
       "  <tbody>\n",
       "    <tr>\n",
       "      <th>0</th>\n",
       "      <td>27.0</td>\n",
       "      <td>0.0</td>\n",
       "      <td>NaN</td>\n",
       "      <td>NaN</td>\n",
       "      <td>NaN</td>\n",
       "      <td>NaN</td>\n",
       "      <td>NaN</td>\n",
       "      <td>more than 1 million</td>\n",
       "      <td>NaN</td>\n",
       "      <td>NaN</td>\n",
       "      <td>NaN</td>\n",
       "      <td>NaN</td>\n",
       "      <td>NaN</td>\n",
       "      <td>NaN</td>\n",
       "      <td>NaN</td>\n",
       "      <td>NaN</td>\n",
       "      <td>NaN</td>\n",
       "      <td>NaN</td>\n",
       "      <td>NaN</td>\n",
       "      <td>NaN</td>\n",
       "      <td>NaN</td>\n",
       "      <td>NaN</td>\n",
       "      <td>NaN</td>\n",
       "      <td>NaN</td>\n",
       "      <td>15 to 29 minutes</td>\n",
       "      <td>Canada</td>\n",
       "      <td>Canada</td>\n",
       "      <td>software development and IT</td>\n",
       "      <td>NaN</td>\n",
       "      <td>Employed for wages</td>\n",
       "      <td>NaN</td>\n",
       "      <td>NaN</td>\n",
       "      <td>NaN</td>\n",
       "      <td>NaN</td>\n",
       "      <td>female</td>\n",
       "      <td>NaN</td>\n",
       "      <td>NaN</td>\n",
       "      <td>1.0</td>\n",
       "      <td>0.0</td>\n",
       "      <td>1.0</td>\n",
       "      <td>0.0</td>\n",
       "      <td>0.0</td>\n",
       "      <td>0.0</td>\n",
       "      <td>NaN</td>\n",
       "      <td>15.0</td>\n",
       "      <td>02d9465b21e8bd09374b0066fb2d5614</td>\n",
       "      <td>eb78c1c3ac6cd9052aec557065070fbf</td>\n",
       "      <td>NaN</td>\n",
       "      <td>NaN</td>\n",
       "      <td>0.0</td>\n",
       "      <td>0.0</td>\n",
       "      <td>0.0</td>\n",
       "      <td>NaN</td>\n",
       "      <td>NaN</td>\n",
       "      <td>NaN</td>\n",
       "      <td>NaN</td>\n",
       "      <td>NaN</td>\n",
       "      <td>NaN</td>\n",
       "      <td>NaN</td>\n",
       "      <td>NaN</td>\n",
       "      <td>NaN</td>\n",
       "      <td>NaN</td>\n",
       "      <td>NaN</td>\n",
       "      <td>NaN</td>\n",
       "      <td>NaN</td>\n",
       "      <td>NaN</td>\n",
       "      <td>start your own business</td>\n",
       "      <td>NaN</td>\n",
       "      <td>NaN</td>\n",
       "      <td>NaN</td>\n",
       "      <td>English</td>\n",
       "      <td>married or domestic partnership</td>\n",
       "      <td>150.0</td>\n",
       "      <td>6.0</td>\n",
       "      <td>6f1fbc6b2b</td>\n",
       "      <td>2017-03-09 00:36:22</td>\n",
       "      <td>2017-03-09 00:32:59</td>\n",
       "      <td>2017-03-09 00:59:46</td>\n",
       "      <td>2017-03-09 00:36:26</td>\n",
       "      <td>NaN</td>\n",
       "      <td>NaN</td>\n",
       "      <td>NaN</td>\n",
       "      <td>1.0</td>\n",
       "      <td>NaN</td>\n",
       "      <td>NaN</td>\n",
       "      <td>NaN</td>\n",
       "      <td>NaN</td>\n",
       "      <td>NaN</td>\n",
       "      <td>NaN</td>\n",
       "      <td>NaN</td>\n",
       "      <td>NaN</td>\n",
       "      <td>NaN</td>\n",
       "      <td>NaN</td>\n",
       "      <td>NaN</td>\n",
       "      <td>NaN</td>\n",
       "      <td>NaN</td>\n",
       "      <td>1.0</td>\n",
       "      <td>NaN</td>\n",
       "      <td>NaN</td>\n",
       "      <td>NaN</td>\n",
       "      <td>NaN</td>\n",
       "      <td>NaN</td>\n",
       "      <td>1.0</td>\n",
       "      <td>NaN</td>\n",
       "      <td>NaN</td>\n",
       "      <td>NaN</td>\n",
       "      <td>1.0</td>\n",
       "      <td>NaN</td>\n",
       "      <td>NaN</td>\n",
       "      <td>NaN</td>\n",
       "      <td>NaN</td>\n",
       "      <td>NaN</td>\n",
       "      <td>NaN</td>\n",
       "      <td>NaN</td>\n",
       "      <td>1.0</td>\n",
       "      <td>1.0</td>\n",
       "      <td>some college credit, no degree</td>\n",
       "      <td>NaN</td>\n",
       "      <td>NaN</td>\n",
       "      <td>NaN</td>\n",
       "      <td>NaN</td>\n",
       "      <td>NaN</td>\n",
       "      <td>NaN</td>\n",
       "      <td>NaN</td>\n",
       "      <td>NaN</td>\n",
       "      <td>NaN</td>\n",
       "      <td>NaN</td>\n",
       "      <td>NaN</td>\n",
       "      <td>NaN</td>\n",
       "      <td>NaN</td>\n",
       "      <td>NaN</td>\n",
       "      <td>NaN</td>\n",
       "      <td>NaN</td>\n",
       "      <td>NaN</td>\n",
       "      <td>NaN</td>\n",
       "      <td>NaN</td>\n",
       "    </tr>\n",
       "    <tr>\n",
       "      <th>1</th>\n",
       "      <td>34.0</td>\n",
       "      <td>0.0</td>\n",
       "      <td>NaN</td>\n",
       "      <td>NaN</td>\n",
       "      <td>NaN</td>\n",
       "      <td>NaN</td>\n",
       "      <td>NaN</td>\n",
       "      <td>less than 100,000</td>\n",
       "      <td>NaN</td>\n",
       "      <td>NaN</td>\n",
       "      <td>NaN</td>\n",
       "      <td>NaN</td>\n",
       "      <td>NaN</td>\n",
       "      <td>NaN</td>\n",
       "      <td>NaN</td>\n",
       "      <td>NaN</td>\n",
       "      <td>NaN</td>\n",
       "      <td>NaN</td>\n",
       "      <td>NaN</td>\n",
       "      <td>NaN</td>\n",
       "      <td>NaN</td>\n",
       "      <td>NaN</td>\n",
       "      <td>NaN</td>\n",
       "      <td>NaN</td>\n",
       "      <td>NaN</td>\n",
       "      <td>United States of America</td>\n",
       "      <td>United States of America</td>\n",
       "      <td>NaN</td>\n",
       "      <td>NaN</td>\n",
       "      <td>Not working but looking for work</td>\n",
       "      <td>NaN</td>\n",
       "      <td>35000.0</td>\n",
       "      <td>NaN</td>\n",
       "      <td>NaN</td>\n",
       "      <td>male</td>\n",
       "      <td>NaN</td>\n",
       "      <td>NaN</td>\n",
       "      <td>1.0</td>\n",
       "      <td>0.0</td>\n",
       "      <td>1.0</td>\n",
       "      <td>0.0</td>\n",
       "      <td>0.0</td>\n",
       "      <td>1.0</td>\n",
       "      <td>NaN</td>\n",
       "      <td>10.0</td>\n",
       "      <td>5bfef9ecb211ec4f518cfc1d2a6f3e0c</td>\n",
       "      <td>21db37adb60cdcafadfa7dca1b13b6b1</td>\n",
       "      <td>NaN</td>\n",
       "      <td>0.0</td>\n",
       "      <td>0.0</td>\n",
       "      <td>0.0</td>\n",
       "      <td>NaN</td>\n",
       "      <td>Within 7 to 12 months</td>\n",
       "      <td>NaN</td>\n",
       "      <td>NaN</td>\n",
       "      <td>NaN</td>\n",
       "      <td>NaN</td>\n",
       "      <td>NaN</td>\n",
       "      <td>1.0</td>\n",
       "      <td>NaN</td>\n",
       "      <td>NaN</td>\n",
       "      <td>NaN</td>\n",
       "      <td>NaN</td>\n",
       "      <td>NaN</td>\n",
       "      <td>NaN</td>\n",
       "      <td>NaN</td>\n",
       "      <td>work for a nonprofit</td>\n",
       "      <td>1.0</td>\n",
       "      <td>Full-Stack Web Developer</td>\n",
       "      <td>in an office with other developers</td>\n",
       "      <td>English</td>\n",
       "      <td>single, never married</td>\n",
       "      <td>80.0</td>\n",
       "      <td>6.0</td>\n",
       "      <td>f8f8be6910</td>\n",
       "      <td>2017-03-09 00:37:07</td>\n",
       "      <td>2017-03-09 00:33:26</td>\n",
       "      <td>2017-03-09 00:38:59</td>\n",
       "      <td>2017-03-09 00:37:10</td>\n",
       "      <td>NaN</td>\n",
       "      <td>1.0</td>\n",
       "      <td>NaN</td>\n",
       "      <td>NaN</td>\n",
       "      <td>NaN</td>\n",
       "      <td>NaN</td>\n",
       "      <td>NaN</td>\n",
       "      <td>NaN</td>\n",
       "      <td>NaN</td>\n",
       "      <td>NaN</td>\n",
       "      <td>NaN</td>\n",
       "      <td>NaN</td>\n",
       "      <td>NaN</td>\n",
       "      <td>NaN</td>\n",
       "      <td>NaN</td>\n",
       "      <td>NaN</td>\n",
       "      <td>NaN</td>\n",
       "      <td>1.0</td>\n",
       "      <td>NaN</td>\n",
       "      <td>NaN</td>\n",
       "      <td>1.0</td>\n",
       "      <td>NaN</td>\n",
       "      <td>NaN</td>\n",
       "      <td>1.0</td>\n",
       "      <td>NaN</td>\n",
       "      <td>NaN</td>\n",
       "      <td>NaN</td>\n",
       "      <td>NaN</td>\n",
       "      <td>NaN</td>\n",
       "      <td>NaN</td>\n",
       "      <td>NaN</td>\n",
       "      <td>NaN</td>\n",
       "      <td>1.0</td>\n",
       "      <td>NaN</td>\n",
       "      <td>NaN</td>\n",
       "      <td>1.0</td>\n",
       "      <td>1.0</td>\n",
       "      <td>some college credit, no degree</td>\n",
       "      <td>NaN</td>\n",
       "      <td>NaN</td>\n",
       "      <td>NaN</td>\n",
       "      <td>NaN</td>\n",
       "      <td>NaN</td>\n",
       "      <td>NaN</td>\n",
       "      <td>NaN</td>\n",
       "      <td>NaN</td>\n",
       "      <td>NaN</td>\n",
       "      <td>1.0</td>\n",
       "      <td>NaN</td>\n",
       "      <td>NaN</td>\n",
       "      <td>NaN</td>\n",
       "      <td>NaN</td>\n",
       "      <td>NaN</td>\n",
       "      <td>NaN</td>\n",
       "      <td>NaN</td>\n",
       "      <td>NaN</td>\n",
       "      <td>NaN</td>\n",
       "    </tr>\n",
       "    <tr>\n",
       "      <th>2</th>\n",
       "      <td>21.0</td>\n",
       "      <td>0.0</td>\n",
       "      <td>NaN</td>\n",
       "      <td>NaN</td>\n",
       "      <td>NaN</td>\n",
       "      <td>NaN</td>\n",
       "      <td>NaN</td>\n",
       "      <td>more than 1 million</td>\n",
       "      <td>NaN</td>\n",
       "      <td>NaN</td>\n",
       "      <td>NaN</td>\n",
       "      <td>NaN</td>\n",
       "      <td>NaN</td>\n",
       "      <td>1.0</td>\n",
       "      <td>NaN</td>\n",
       "      <td>1.0</td>\n",
       "      <td>NaN</td>\n",
       "      <td>NaN</td>\n",
       "      <td>NaN</td>\n",
       "      <td>NaN</td>\n",
       "      <td>NaN</td>\n",
       "      <td>NaN</td>\n",
       "      <td>NaN</td>\n",
       "      <td>NaN</td>\n",
       "      <td>15 to 29 minutes</td>\n",
       "      <td>United States of America</td>\n",
       "      <td>United States of America</td>\n",
       "      <td>software development and IT</td>\n",
       "      <td>NaN</td>\n",
       "      <td>Employed for wages</td>\n",
       "      <td>NaN</td>\n",
       "      <td>70000.0</td>\n",
       "      <td>NaN</td>\n",
       "      <td>NaN</td>\n",
       "      <td>male</td>\n",
       "      <td>NaN</td>\n",
       "      <td>NaN</td>\n",
       "      <td>0.0</td>\n",
       "      <td>0.0</td>\n",
       "      <td>1.0</td>\n",
       "      <td>NaN</td>\n",
       "      <td>0.0</td>\n",
       "      <td>NaN</td>\n",
       "      <td>NaN</td>\n",
       "      <td>25.0</td>\n",
       "      <td>14f1863afa9c7de488050b82eb3edd96</td>\n",
       "      <td>21ba173828fbe9e27ccebaf4d5166a55</td>\n",
       "      <td>13000.0</td>\n",
       "      <td>1.0</td>\n",
       "      <td>0.0</td>\n",
       "      <td>0.0</td>\n",
       "      <td>0.0</td>\n",
       "      <td>Within 7 to 12 months</td>\n",
       "      <td>1.0</td>\n",
       "      <td>NaN</td>\n",
       "      <td>NaN</td>\n",
       "      <td>1.0</td>\n",
       "      <td>1.0</td>\n",
       "      <td>1.0</td>\n",
       "      <td>NaN</td>\n",
       "      <td>NaN</td>\n",
       "      <td>1.0</td>\n",
       "      <td>NaN</td>\n",
       "      <td>NaN</td>\n",
       "      <td>NaN</td>\n",
       "      <td>NaN</td>\n",
       "      <td>work for a medium-sized company</td>\n",
       "      <td>1.0</td>\n",
       "      <td>Front-End Web Developer, Back-End Web Develo...</td>\n",
       "      <td>no preference</td>\n",
       "      <td>Spanish</td>\n",
       "      <td>single, never married</td>\n",
       "      <td>1000.0</td>\n",
       "      <td>5.0</td>\n",
       "      <td>2ed189768e</td>\n",
       "      <td>2017-03-09 00:37:58</td>\n",
       "      <td>2017-03-09 00:33:53</td>\n",
       "      <td>2017-03-09 00:40:14</td>\n",
       "      <td>2017-03-09 00:38:02</td>\n",
       "      <td>1.0</td>\n",
       "      <td>NaN</td>\n",
       "      <td>1.0</td>\n",
       "      <td>NaN</td>\n",
       "      <td>NaN</td>\n",
       "      <td>NaN</td>\n",
       "      <td>NaN</td>\n",
       "      <td>NaN</td>\n",
       "      <td>NaN</td>\n",
       "      <td>Codenewbie</td>\n",
       "      <td>NaN</td>\n",
       "      <td>NaN</td>\n",
       "      <td>NaN</td>\n",
       "      <td>NaN</td>\n",
       "      <td>1.0</td>\n",
       "      <td>NaN</td>\n",
       "      <td>NaN</td>\n",
       "      <td>1.0</td>\n",
       "      <td>NaN</td>\n",
       "      <td>NaN</td>\n",
       "      <td>1.0</td>\n",
       "      <td>NaN</td>\n",
       "      <td>NaN</td>\n",
       "      <td>1.0</td>\n",
       "      <td>NaN</td>\n",
       "      <td>NaN</td>\n",
       "      <td>NaN</td>\n",
       "      <td>1.0</td>\n",
       "      <td>NaN</td>\n",
       "      <td>NaN</td>\n",
       "      <td>NaN</td>\n",
       "      <td>NaN</td>\n",
       "      <td>NaN</td>\n",
       "      <td>NaN</td>\n",
       "      <td>1.0</td>\n",
       "      <td>1.0</td>\n",
       "      <td>NaN</td>\n",
       "      <td>high school diploma or equivalent (GED)</td>\n",
       "      <td>NaN</td>\n",
       "      <td>NaN</td>\n",
       "      <td>NaN</td>\n",
       "      <td>NaN</td>\n",
       "      <td>1.0</td>\n",
       "      <td>NaN</td>\n",
       "      <td>1.0</td>\n",
       "      <td>1.0</td>\n",
       "      <td>NaN</td>\n",
       "      <td>NaN</td>\n",
       "      <td>NaN</td>\n",
       "      <td>NaN</td>\n",
       "      <td>1.0</td>\n",
       "      <td>1.0</td>\n",
       "      <td>NaN</td>\n",
       "      <td>NaN</td>\n",
       "      <td>NaN</td>\n",
       "      <td>NaN</td>\n",
       "      <td>NaN</td>\n",
       "    </tr>\n",
       "    <tr>\n",
       "      <th>3</th>\n",
       "      <td>26.0</td>\n",
       "      <td>0.0</td>\n",
       "      <td>NaN</td>\n",
       "      <td>NaN</td>\n",
       "      <td>NaN</td>\n",
       "      <td>NaN</td>\n",
       "      <td>NaN</td>\n",
       "      <td>between 100,000 and 1 million</td>\n",
       "      <td>NaN</td>\n",
       "      <td>NaN</td>\n",
       "      <td>NaN</td>\n",
       "      <td>NaN</td>\n",
       "      <td>NaN</td>\n",
       "      <td>NaN</td>\n",
       "      <td>NaN</td>\n",
       "      <td>NaN</td>\n",
       "      <td>NaN</td>\n",
       "      <td>NaN</td>\n",
       "      <td>NaN</td>\n",
       "      <td>NaN</td>\n",
       "      <td>NaN</td>\n",
       "      <td>NaN</td>\n",
       "      <td>NaN</td>\n",
       "      <td>NaN</td>\n",
       "      <td>I work from home</td>\n",
       "      <td>Brazil</td>\n",
       "      <td>Brazil</td>\n",
       "      <td>software development and IT</td>\n",
       "      <td>NaN</td>\n",
       "      <td>Employed for wages</td>\n",
       "      <td>NaN</td>\n",
       "      <td>40000.0</td>\n",
       "      <td>0.0</td>\n",
       "      <td>NaN</td>\n",
       "      <td>male</td>\n",
       "      <td>NaN</td>\n",
       "      <td>0.0</td>\n",
       "      <td>1.0</td>\n",
       "      <td>1.0</td>\n",
       "      <td>1.0</td>\n",
       "      <td>1.0</td>\n",
       "      <td>0.0</td>\n",
       "      <td>0.0</td>\n",
       "      <td>40000.0</td>\n",
       "      <td>14.0</td>\n",
       "      <td>91756eb4dc280062a541c25a3d44cfb0</td>\n",
       "      <td>3be37b558f02daae93a6da10f83f0c77</td>\n",
       "      <td>24000.0</td>\n",
       "      <td>0.0</td>\n",
       "      <td>0.0</td>\n",
       "      <td>0.0</td>\n",
       "      <td>1.0</td>\n",
       "      <td>Within the next 6 months</td>\n",
       "      <td>1.0</td>\n",
       "      <td>NaN</td>\n",
       "      <td>NaN</td>\n",
       "      <td>NaN</td>\n",
       "      <td>1.0</td>\n",
       "      <td>1.0</td>\n",
       "      <td>NaN</td>\n",
       "      <td>NaN</td>\n",
       "      <td>NaN</td>\n",
       "      <td>NaN</td>\n",
       "      <td>NaN</td>\n",
       "      <td>NaN</td>\n",
       "      <td>NaN</td>\n",
       "      <td>work for a medium-sized company</td>\n",
       "      <td>NaN</td>\n",
       "      <td>Front-End Web Developer, Full-Stack Web Deve...</td>\n",
       "      <td>from home</td>\n",
       "      <td>Portuguese</td>\n",
       "      <td>married or domestic partnership</td>\n",
       "      <td>0.0</td>\n",
       "      <td>5.0</td>\n",
       "      <td>dbdc0664d1</td>\n",
       "      <td>2017-03-09 00:40:13</td>\n",
       "      <td>2017-03-09 00:37:45</td>\n",
       "      <td>2017-03-09 00:42:26</td>\n",
       "      <td>2017-03-09 00:40:18</td>\n",
       "      <td>NaN</td>\n",
       "      <td>NaN</td>\n",
       "      <td>NaN</td>\n",
       "      <td>NaN</td>\n",
       "      <td>NaN</td>\n",
       "      <td>NaN</td>\n",
       "      <td>NaN</td>\n",
       "      <td>NaN</td>\n",
       "      <td>NaN</td>\n",
       "      <td>NaN</td>\n",
       "      <td>NaN</td>\n",
       "      <td>NaN</td>\n",
       "      <td>NaN</td>\n",
       "      <td>NaN</td>\n",
       "      <td>NaN</td>\n",
       "      <td>NaN</td>\n",
       "      <td>NaN</td>\n",
       "      <td>NaN</td>\n",
       "      <td>NaN</td>\n",
       "      <td>NaN</td>\n",
       "      <td>NaN</td>\n",
       "      <td>NaN</td>\n",
       "      <td>1.0</td>\n",
       "      <td>1.0</td>\n",
       "      <td>NaN</td>\n",
       "      <td>NaN</td>\n",
       "      <td>NaN</td>\n",
       "      <td>1.0</td>\n",
       "      <td>NaN</td>\n",
       "      <td>NaN</td>\n",
       "      <td>NaN</td>\n",
       "      <td>NaN</td>\n",
       "      <td>1.0</td>\n",
       "      <td>NaN</td>\n",
       "      <td>NaN</td>\n",
       "      <td>NaN</td>\n",
       "      <td>NaN</td>\n",
       "      <td>some college credit, no degree</td>\n",
       "      <td>NaN</td>\n",
       "      <td>NaN</td>\n",
       "      <td>NaN</td>\n",
       "      <td>NaN</td>\n",
       "      <td>NaN</td>\n",
       "      <td>NaN</td>\n",
       "      <td>NaN</td>\n",
       "      <td>1.0</td>\n",
       "      <td>NaN</td>\n",
       "      <td>1.0</td>\n",
       "      <td>1.0</td>\n",
       "      <td>NaN</td>\n",
       "      <td>NaN</td>\n",
       "      <td>1.0</td>\n",
       "      <td>NaN</td>\n",
       "      <td>NaN</td>\n",
       "      <td>NaN</td>\n",
       "      <td>NaN</td>\n",
       "      <td>NaN</td>\n",
       "    </tr>\n",
       "    <tr>\n",
       "      <th>4</th>\n",
       "      <td>20.0</td>\n",
       "      <td>0.0</td>\n",
       "      <td>NaN</td>\n",
       "      <td>NaN</td>\n",
       "      <td>NaN</td>\n",
       "      <td>NaN</td>\n",
       "      <td>NaN</td>\n",
       "      <td>between 100,000 and 1 million</td>\n",
       "      <td>NaN</td>\n",
       "      <td>NaN</td>\n",
       "      <td>NaN</td>\n",
       "      <td>NaN</td>\n",
       "      <td>NaN</td>\n",
       "      <td>NaN</td>\n",
       "      <td>NaN</td>\n",
       "      <td>NaN</td>\n",
       "      <td>NaN</td>\n",
       "      <td>NaN</td>\n",
       "      <td>NaN</td>\n",
       "      <td>NaN</td>\n",
       "      <td>NaN</td>\n",
       "      <td>NaN</td>\n",
       "      <td>NaN</td>\n",
       "      <td>NaN</td>\n",
       "      <td>NaN</td>\n",
       "      <td>Portugal</td>\n",
       "      <td>Portugal</td>\n",
       "      <td>NaN</td>\n",
       "      <td>NaN</td>\n",
       "      <td>Not working but looking for work</td>\n",
       "      <td>NaN</td>\n",
       "      <td>140000.0</td>\n",
       "      <td>NaN</td>\n",
       "      <td>NaN</td>\n",
       "      <td>female</td>\n",
       "      <td>NaN</td>\n",
       "      <td>NaN</td>\n",
       "      <td>0.0</td>\n",
       "      <td>0.0</td>\n",
       "      <td>1.0</td>\n",
       "      <td>NaN</td>\n",
       "      <td>0.0</td>\n",
       "      <td>NaN</td>\n",
       "      <td>NaN</td>\n",
       "      <td>10.0</td>\n",
       "      <td>aa3f061a1949a90b27bef7411ecd193f</td>\n",
       "      <td>d7c56bbf2c7b62096be9db010e86d96d</td>\n",
       "      <td>NaN</td>\n",
       "      <td>0.0</td>\n",
       "      <td>0.0</td>\n",
       "      <td>0.0</td>\n",
       "      <td>NaN</td>\n",
       "      <td>Within 7 to 12 months</td>\n",
       "      <td>1.0</td>\n",
       "      <td>NaN</td>\n",
       "      <td>NaN</td>\n",
       "      <td>NaN</td>\n",
       "      <td>1.0</td>\n",
       "      <td>1.0</td>\n",
       "      <td>NaN</td>\n",
       "      <td>1.0</td>\n",
       "      <td>1.0</td>\n",
       "      <td>NaN</td>\n",
       "      <td>NaN</td>\n",
       "      <td>NaN</td>\n",
       "      <td>NaN</td>\n",
       "      <td>work for a multinational corporation</td>\n",
       "      <td>1.0</td>\n",
       "      <td>Full-Stack Web Developer, Information Security...</td>\n",
       "      <td>in an office with other developers</td>\n",
       "      <td>Portuguese</td>\n",
       "      <td>single, never married</td>\n",
       "      <td>0.0</td>\n",
       "      <td>24.0</td>\n",
       "      <td>11b0f2d8a9</td>\n",
       "      <td>2017-03-09 00:42:45</td>\n",
       "      <td>2017-03-09 00:39:44</td>\n",
       "      <td>2017-03-09 00:45:42</td>\n",
       "      <td>2017-03-09 00:42:50</td>\n",
       "      <td>NaN</td>\n",
       "      <td>NaN</td>\n",
       "      <td>NaN</td>\n",
       "      <td>NaN</td>\n",
       "      <td>NaN</td>\n",
       "      <td>NaN</td>\n",
       "      <td>NaN</td>\n",
       "      <td>NaN</td>\n",
       "      <td>NaN</td>\n",
       "      <td>NaN</td>\n",
       "      <td>NaN</td>\n",
       "      <td>NaN</td>\n",
       "      <td>NaN</td>\n",
       "      <td>NaN</td>\n",
       "      <td>NaN</td>\n",
       "      <td>NaN</td>\n",
       "      <td>NaN</td>\n",
       "      <td>NaN</td>\n",
       "      <td>NaN</td>\n",
       "      <td>NaN</td>\n",
       "      <td>NaN</td>\n",
       "      <td>NaN</td>\n",
       "      <td>NaN</td>\n",
       "      <td>NaN</td>\n",
       "      <td>NaN</td>\n",
       "      <td>NaN</td>\n",
       "      <td>NaN</td>\n",
       "      <td>NaN</td>\n",
       "      <td>NaN</td>\n",
       "      <td>NaN</td>\n",
       "      <td>NaN</td>\n",
       "      <td>NaN</td>\n",
       "      <td>1.0</td>\n",
       "      <td>NaN</td>\n",
       "      <td>NaN</td>\n",
       "      <td>NaN</td>\n",
       "      <td>NaN</td>\n",
       "      <td>bachelor's degree</td>\n",
       "      <td>Information Technology</td>\n",
       "      <td>NaN</td>\n",
       "      <td>NaN</td>\n",
       "      <td>NaN</td>\n",
       "      <td>NaN</td>\n",
       "      <td>NaN</td>\n",
       "      <td>NaN</td>\n",
       "      <td>NaN</td>\n",
       "      <td>NaN</td>\n",
       "      <td>NaN</td>\n",
       "      <td>NaN</td>\n",
       "      <td>NaN</td>\n",
       "      <td>NaN</td>\n",
       "      <td>NaN</td>\n",
       "      <td>NaN</td>\n",
       "      <td>NaN</td>\n",
       "      <td>NaN</td>\n",
       "      <td>NaN</td>\n",
       "      <td>NaN</td>\n",
       "    </tr>\n",
       "  </tbody>\n",
       "</table>\n",
       "</div>"
      ],
      "text/plain": [
       "    Age  AttendedBootcamp  BootcampFinish  BootcampLoanYesNo BootcampName  \\\n",
       "0  27.0               0.0             NaN                NaN          NaN   \n",
       "1  34.0               0.0             NaN                NaN          NaN   \n",
       "2  21.0               0.0             NaN                NaN          NaN   \n",
       "3  26.0               0.0             NaN                NaN          NaN   \n",
       "4  20.0               0.0             NaN                NaN          NaN   \n",
       "\n",
       "   BootcampRecommend  ChildrenNumber                 CityPopulation  \\\n",
       "0                NaN             NaN            more than 1 million   \n",
       "1                NaN             NaN              less than 100,000   \n",
       "2                NaN             NaN            more than 1 million   \n",
       "3                NaN             NaN  between 100,000 and 1 million   \n",
       "4                NaN             NaN  between 100,000 and 1 million   \n",
       "\n",
       "   CodeEventConferences  CodeEventDjangoGirls  CodeEventFCC  CodeEventGameJam  \\\n",
       "0                   NaN                   NaN           NaN               NaN   \n",
       "1                   NaN                   NaN           NaN               NaN   \n",
       "2                   NaN                   NaN           NaN               NaN   \n",
       "3                   NaN                   NaN           NaN               NaN   \n",
       "4                   NaN                   NaN           NaN               NaN   \n",
       "\n",
       "   CodeEventGirlDev  CodeEventHackathons  CodeEventMeetup  \\\n",
       "0               NaN                  NaN              NaN   \n",
       "1               NaN                  NaN              NaN   \n",
       "2               NaN                  1.0              NaN   \n",
       "3               NaN                  NaN              NaN   \n",
       "4               NaN                  NaN              NaN   \n",
       "\n",
       "   CodeEventNodeSchool  CodeEventNone CodeEventOther  CodeEventRailsBridge  \\\n",
       "0                  NaN            NaN            NaN                   NaN   \n",
       "1                  NaN            NaN            NaN                   NaN   \n",
       "2                  1.0            NaN            NaN                   NaN   \n",
       "3                  NaN            NaN            NaN                   NaN   \n",
       "4                  NaN            NaN            NaN                   NaN   \n",
       "\n",
       "   CodeEventRailsGirls  CodeEventStartUpWknd  CodeEventWkdBootcamps  \\\n",
       "0                  NaN                   NaN                    NaN   \n",
       "1                  NaN                   NaN                    NaN   \n",
       "2                  NaN                   NaN                    NaN   \n",
       "3                  NaN                   NaN                    NaN   \n",
       "4                  NaN                   NaN                    NaN   \n",
       "\n",
       "   CodeEventWomenCode  CodeEventWorkshops       CommuteTime  \\\n",
       "0                 NaN                 NaN  15 to 29 minutes   \n",
       "1                 NaN                 NaN               NaN   \n",
       "2                 NaN                 NaN  15 to 29 minutes   \n",
       "3                 NaN                 NaN  I work from home   \n",
       "4                 NaN                 NaN               NaN   \n",
       "\n",
       "             CountryCitizen               CountryLive  \\\n",
       "0                    Canada                    Canada   \n",
       "1  United States of America  United States of America   \n",
       "2  United States of America  United States of America   \n",
       "3                    Brazil                    Brazil   \n",
       "4                  Portugal                  Portugal   \n",
       "\n",
       "               EmploymentField EmploymentFieldOther  \\\n",
       "0  software development and IT                  NaN   \n",
       "1                          NaN                  NaN   \n",
       "2  software development and IT                  NaN   \n",
       "3  software development and IT                  NaN   \n",
       "4                          NaN                  NaN   \n",
       "\n",
       "                   EmploymentStatus EmploymentStatusOther  ExpectedEarning  \\\n",
       "0                Employed for wages                   NaN              NaN   \n",
       "1  Not working but looking for work                   NaN          35000.0   \n",
       "2                Employed for wages                   NaN          70000.0   \n",
       "3                Employed for wages                   NaN          40000.0   \n",
       "4  Not working but looking for work                   NaN         140000.0   \n",
       "\n",
       "   FinanciallySupporting  FirstDevJob  Gender GenderOther  HasChildren  \\\n",
       "0                    NaN          NaN  female         NaN          NaN   \n",
       "1                    NaN          NaN    male         NaN          NaN   \n",
       "2                    NaN          NaN    male         NaN          NaN   \n",
       "3                    0.0          NaN    male         NaN          0.0   \n",
       "4                    NaN          NaN  female         NaN          NaN   \n",
       "\n",
       "   HasDebt  HasFinancialDependents  HasHighSpdInternet  HasHomeMortgage  \\\n",
       "0      1.0                     0.0                 1.0              0.0   \n",
       "1      1.0                     0.0                 1.0              0.0   \n",
       "2      0.0                     0.0                 1.0              NaN   \n",
       "3      1.0                     1.0                 1.0              1.0   \n",
       "4      0.0                     0.0                 1.0              NaN   \n",
       "\n",
       "   HasServedInMilitary  HasStudentDebt  HomeMortgageOwe  HoursLearning  \\\n",
       "0                  0.0             0.0              NaN           15.0   \n",
       "1                  0.0             1.0              NaN           10.0   \n",
       "2                  0.0             NaN              NaN           25.0   \n",
       "3                  0.0             0.0          40000.0           14.0   \n",
       "4                  0.0             NaN              NaN           10.0   \n",
       "\n",
       "                               ID.x                              ID.y  \\\n",
       "0  02d9465b21e8bd09374b0066fb2d5614  eb78c1c3ac6cd9052aec557065070fbf   \n",
       "1  5bfef9ecb211ec4f518cfc1d2a6f3e0c  21db37adb60cdcafadfa7dca1b13b6b1   \n",
       "2  14f1863afa9c7de488050b82eb3edd96  21ba173828fbe9e27ccebaf4d5166a55   \n",
       "3  91756eb4dc280062a541c25a3d44cfb0  3be37b558f02daae93a6da10f83f0c77   \n",
       "4  aa3f061a1949a90b27bef7411ecd193f  d7c56bbf2c7b62096be9db010e86d96d   \n",
       "\n",
       "    Income  IsEthnicMinority  IsReceiveDisabilitiesBenefits  IsSoftwareDev  \\\n",
       "0      NaN               NaN                            0.0            0.0   \n",
       "1      NaN               0.0                            0.0            0.0   \n",
       "2  13000.0               1.0                            0.0            0.0   \n",
       "3  24000.0               0.0                            0.0            0.0   \n",
       "4      NaN               0.0                            0.0            0.0   \n",
       "\n",
       "   IsUnderEmployed              JobApplyWhen  JobInterestBackEnd  \\\n",
       "0              0.0                       NaN                 NaN   \n",
       "1              NaN     Within 7 to 12 months                 NaN   \n",
       "2              0.0     Within 7 to 12 months                 1.0   \n",
       "3              1.0  Within the next 6 months                 1.0   \n",
       "4              NaN     Within 7 to 12 months                 1.0   \n",
       "\n",
       "   JobInterestDataEngr  JobInterestDataSci  JobInterestDevOps  \\\n",
       "0                  NaN                 NaN                NaN   \n",
       "1                  NaN                 NaN                NaN   \n",
       "2                  NaN                 NaN                1.0   \n",
       "3                  NaN                 NaN                NaN   \n",
       "4                  NaN                 NaN                NaN   \n",
       "\n",
       "   JobInterestFrontEnd  JobInterestFullStack  JobInterestGameDev  \\\n",
       "0                  NaN                   NaN                 NaN   \n",
       "1                  NaN                   1.0                 NaN   \n",
       "2                  1.0                   1.0                 NaN   \n",
       "3                  1.0                   1.0                 NaN   \n",
       "4                  1.0                   1.0                 NaN   \n",
       "\n",
       "   JobInterestInfoSec  JobInterestMobile JobInterestOther  \\\n",
       "0                 NaN                NaN              NaN   \n",
       "1                 NaN                NaN              NaN   \n",
       "2                 NaN                1.0              NaN   \n",
       "3                 NaN                NaN              NaN   \n",
       "4                 1.0                1.0              NaN   \n",
       "\n",
       "   JobInterestProjMngr  JobInterestQAEngr  JobInterestUX  \\\n",
       "0                  NaN                NaN            NaN   \n",
       "1                  NaN                NaN            NaN   \n",
       "2                  NaN                NaN            NaN   \n",
       "3                  NaN                NaN            NaN   \n",
       "4                  NaN                NaN            NaN   \n",
       "\n",
       "                                JobPref  JobRelocateYesNo  \\\n",
       "0               start your own business               NaN   \n",
       "1                  work for a nonprofit               1.0   \n",
       "2       work for a medium-sized company               1.0   \n",
       "3       work for a medium-sized company               NaN   \n",
       "4  work for a multinational corporation               1.0   \n",
       "\n",
       "                                     JobRoleInterest  \\\n",
       "0                                                NaN   \n",
       "1                           Full-Stack Web Developer   \n",
       "2    Front-End Web Developer, Back-End Web Develo...   \n",
       "3    Front-End Web Developer, Full-Stack Web Deve...   \n",
       "4  Full-Stack Web Developer, Information Security...   \n",
       "\n",
       "                         JobWherePref LanguageAtHome  \\\n",
       "0                                 NaN        English   \n",
       "1  in an office with other developers        English   \n",
       "2                       no preference        Spanish   \n",
       "3                           from home     Portuguese   \n",
       "4  in an office with other developers     Portuguese   \n",
       "\n",
       "                     MaritalStatus  MoneyForLearning  MonthsProgramming  \\\n",
       "0  married or domestic partnership             150.0                6.0   \n",
       "1            single, never married              80.0                6.0   \n",
       "2            single, never married            1000.0                5.0   \n",
       "3  married or domestic partnership               0.0                5.0   \n",
       "4            single, never married               0.0               24.0   \n",
       "\n",
       "    NetworkID         Part1EndTime       Part1StartTime         Part2EndTime  \\\n",
       "0  6f1fbc6b2b  2017-03-09 00:36:22  2017-03-09 00:32:59  2017-03-09 00:59:46   \n",
       "1  f8f8be6910  2017-03-09 00:37:07  2017-03-09 00:33:26  2017-03-09 00:38:59   \n",
       "2  2ed189768e  2017-03-09 00:37:58  2017-03-09 00:33:53  2017-03-09 00:40:14   \n",
       "3  dbdc0664d1  2017-03-09 00:40:13  2017-03-09 00:37:45  2017-03-09 00:42:26   \n",
       "4  11b0f2d8a9  2017-03-09 00:42:45  2017-03-09 00:39:44  2017-03-09 00:45:42   \n",
       "\n",
       "        Part2StartTime  PodcastChangeLog  PodcastCodeNewbie  PodcastCodePen  \\\n",
       "0  2017-03-09 00:36:26               NaN                NaN             NaN   \n",
       "1  2017-03-09 00:37:10               NaN                1.0             NaN   \n",
       "2  2017-03-09 00:38:02               1.0                NaN             1.0   \n",
       "3  2017-03-09 00:40:18               NaN                NaN             NaN   \n",
       "4  2017-03-09 00:42:50               NaN                NaN             NaN   \n",
       "\n",
       "   PodcastDevTea  PodcastDotNET  PodcastGiantRobots  PodcastJSAir  \\\n",
       "0            1.0            NaN                 NaN           NaN   \n",
       "1            NaN            NaN                 NaN           NaN   \n",
       "2            NaN            NaN                 NaN           NaN   \n",
       "3            NaN            NaN                 NaN           NaN   \n",
       "4            NaN            NaN                 NaN           NaN   \n",
       "\n",
       "   PodcastJSJabber  PodcastNone PodcastOther  PodcastProgThrowdown  \\\n",
       "0              NaN          NaN          NaN                   NaN   \n",
       "1              NaN          NaN          NaN                   NaN   \n",
       "2              NaN          NaN   Codenewbie                   NaN   \n",
       "3              NaN          NaN          NaN                   NaN   \n",
       "4              NaN          NaN          NaN                   NaN   \n",
       "\n",
       "   PodcastRubyRogues  PodcastSEDaily  PodcastSERadio  PodcastShopTalk  \\\n",
       "0                NaN             NaN             NaN              NaN   \n",
       "1                NaN             NaN             NaN              NaN   \n",
       "2                NaN             NaN             NaN              1.0   \n",
       "3                NaN             NaN             NaN              NaN   \n",
       "4                NaN             NaN             NaN              NaN   \n",
       "\n",
       "   PodcastTalkPython  PodcastTheWebAhead  ResourceCodecademy  \\\n",
       "0                NaN                 NaN                 1.0   \n",
       "1                NaN                 NaN                 1.0   \n",
       "2                NaN                 NaN                 1.0   \n",
       "3                NaN                 NaN                 NaN   \n",
       "4                NaN                 NaN                 NaN   \n",
       "\n",
       "   ResourceCodeWars  ResourceCoursera  ResourceCSS  ResourceEdX  \\\n",
       "0               NaN               NaN          NaN          NaN   \n",
       "1               NaN               NaN          1.0          NaN   \n",
       "2               NaN               NaN          1.0          NaN   \n",
       "3               NaN               NaN          NaN          NaN   \n",
       "4               NaN               NaN          NaN          NaN   \n",
       "\n",
       "   ResourceEgghead  ResourceFCC  ResourceHackerRank  ResourceKA  \\\n",
       "0              NaN          1.0                 NaN         NaN   \n",
       "1              NaN          1.0                 NaN         NaN   \n",
       "2              NaN          1.0                 NaN         NaN   \n",
       "3              1.0          1.0                 NaN         NaN   \n",
       "4              NaN          NaN                 NaN         NaN   \n",
       "\n",
       "   ResourceLynda  ResourceMDN  ResourceOdinProj ResourceOther  \\\n",
       "0            NaN          1.0               NaN           NaN   \n",
       "1            NaN          NaN               NaN           NaN   \n",
       "2            NaN          1.0               NaN           NaN   \n",
       "3            NaN          1.0               NaN           NaN   \n",
       "4            NaN          NaN               NaN           NaN   \n",
       "\n",
       "   ResourcePluralSight  ResourceSkillcrush  ResourceSO  ResourceTreehouse  \\\n",
       "0                  NaN                 NaN         NaN                NaN   \n",
       "1                  NaN                 NaN         1.0                NaN   \n",
       "2                  NaN                 NaN         NaN                NaN   \n",
       "3                  NaN                 NaN         1.0                NaN   \n",
       "4                  NaN                 NaN         1.0                NaN   \n",
       "\n",
       "   ResourceUdacity  ResourceUdemy  ResourceW3S  \\\n",
       "0              NaN            1.0          1.0   \n",
       "1              NaN            1.0          1.0   \n",
       "2              1.0            1.0          NaN   \n",
       "3              NaN            NaN          NaN   \n",
       "4              NaN            NaN          NaN   \n",
       "\n",
       "                              SchoolDegree             SchoolMajor  \\\n",
       "0           some college credit, no degree                     NaN   \n",
       "1           some college credit, no degree                     NaN   \n",
       "2  high school diploma or equivalent (GED)                     NaN   \n",
       "3           some college credit, no degree                     NaN   \n",
       "4                        bachelor's degree  Information Technology   \n",
       "\n",
       "   StudentDebtOwe  YouTubeCodeCourse  YouTubeCodingTrain  YouTubeCodingTut360  \\\n",
       "0             NaN                NaN                 NaN                  NaN   \n",
       "1             NaN                NaN                 NaN                  NaN   \n",
       "2             NaN                NaN                 NaN                  1.0   \n",
       "3             NaN                NaN                 NaN                  NaN   \n",
       "4             NaN                NaN                 NaN                  NaN   \n",
       "\n",
       "   YouTubeComputerphile  YouTubeDerekBanas  YouTubeDevTips  \\\n",
       "0                   NaN                NaN             NaN   \n",
       "1                   NaN                NaN             NaN   \n",
       "2                   NaN                1.0             1.0   \n",
       "3                   NaN                NaN             1.0   \n",
       "4                   NaN                NaN             NaN   \n",
       "\n",
       "   YouTubeEngineeredTruth  YouTubeFCC  YouTubeFunFunFunction  \\\n",
       "0                     NaN         NaN                    NaN   \n",
       "1                     NaN         1.0                    NaN   \n",
       "2                     NaN         NaN                    NaN   \n",
       "3                     NaN         1.0                    1.0   \n",
       "4                     NaN         NaN                    NaN   \n",
       "\n",
       "   YouTubeGoogleDev  YouTubeLearnCode  YouTubeLevelUpTuts  YouTubeMIT  \\\n",
       "0               NaN               NaN                 NaN         NaN   \n",
       "1               NaN               NaN                 NaN         NaN   \n",
       "2               NaN               1.0                 1.0         NaN   \n",
       "3               NaN               NaN                 1.0         NaN   \n",
       "4               NaN               NaN                 NaN         NaN   \n",
       "\n",
       "   YouTubeMozillaHacks YouTubeOther  YouTubeSimplilearn  YouTubeTheNewBoston  \n",
       "0                  NaN          NaN                 NaN                  NaN  \n",
       "1                  NaN          NaN                 NaN                  NaN  \n",
       "2                  NaN          NaN                 NaN                  NaN  \n",
       "3                  NaN          NaN                 NaN                  NaN  \n",
       "4                  NaN          NaN                 NaN                  NaN  "
      ]
     },
     "execution_count": 3,
     "metadata": {},
     "output_type": "execute_result"
    }
   ],
   "source": [
    "fcc_survey.head()"
   ]
  },
  {
   "cell_type": "markdown",
   "metadata": {},
   "source": [
    "## Relevant columns\n",
    "\n",
    "After the data read, we can see that we have 136 columns and it's a lot to analyze. Due to not all of them will be relevant, let's keep only usefull columns."
   ]
  },
  {
   "cell_type": "code",
   "execution_count": 4,
   "metadata": {
    "collapsed": true
   },
   "outputs": [],
   "source": [
    "relevant_survey = fcc_survey[[\"Age\",\"CityPopulation\",\"CountryLive\",\"EmploymentField\",\"EmploymentStatus\",\"Gender\",\"HasChildren\",\"HasHighSpdInternet\",\"Income\", \"IsEthnicMinority\",\n",
    "                       \"JobInterestBackEnd\", \"JobInterestDataEngr\", \n",
    "                       \"JobInterestDataSci\", \"JobInterestDevOps\", \"JobInterestFrontEnd\", \n",
    "                       \"JobInterestFullStack\", \"JobInterestGameDev\", \"JobInterestInfoSec\",\n",
    "                       \"JobInterestMobile\", \"JobInterestQAEngr\", \"JobInterestUX\",\n",
    "                       \"JobPref\", \"JobRelocateYesNo\", \"MoneyForLearning\",\n",
    "                       \"SchoolDegree\", \"SchoolMajor\"]].copy()"
   ]
  },
  {
   "cell_type": "code",
   "execution_count": 5,
   "metadata": {
    "collapsed": false
   },
   "outputs": [
    {
     "data": {
      "text/html": [
       "<div>\n",
       "<style scoped>\n",
       "    .dataframe tbody tr th:only-of-type {\n",
       "        vertical-align: middle;\n",
       "    }\n",
       "\n",
       "    .dataframe tbody tr th {\n",
       "        vertical-align: top;\n",
       "    }\n",
       "\n",
       "    .dataframe thead th {\n",
       "        text-align: right;\n",
       "    }\n",
       "</style>\n",
       "<table border=\"1\" class=\"dataframe\">\n",
       "  <thead>\n",
       "    <tr style=\"text-align: right;\">\n",
       "      <th></th>\n",
       "      <th>Age</th>\n",
       "      <th>CityPopulation</th>\n",
       "      <th>CountryLive</th>\n",
       "      <th>EmploymentField</th>\n",
       "      <th>EmploymentStatus</th>\n",
       "      <th>Gender</th>\n",
       "      <th>HasChildren</th>\n",
       "      <th>HasHighSpdInternet</th>\n",
       "      <th>Income</th>\n",
       "      <th>IsEthnicMinority</th>\n",
       "      <th>JobInterestBackEnd</th>\n",
       "      <th>JobInterestDataEngr</th>\n",
       "      <th>JobInterestDataSci</th>\n",
       "      <th>JobInterestDevOps</th>\n",
       "      <th>JobInterestFrontEnd</th>\n",
       "      <th>JobInterestFullStack</th>\n",
       "      <th>JobInterestGameDev</th>\n",
       "      <th>JobInterestInfoSec</th>\n",
       "      <th>JobInterestMobile</th>\n",
       "      <th>JobInterestQAEngr</th>\n",
       "      <th>JobInterestUX</th>\n",
       "      <th>JobPref</th>\n",
       "      <th>JobRelocateYesNo</th>\n",
       "      <th>MoneyForLearning</th>\n",
       "      <th>SchoolDegree</th>\n",
       "      <th>SchoolMajor</th>\n",
       "    </tr>\n",
       "  </thead>\n",
       "  <tbody>\n",
       "    <tr>\n",
       "      <th>0</th>\n",
       "      <td>27.0</td>\n",
       "      <td>more than 1 million</td>\n",
       "      <td>Canada</td>\n",
       "      <td>software development and IT</td>\n",
       "      <td>Employed for wages</td>\n",
       "      <td>female</td>\n",
       "      <td>NaN</td>\n",
       "      <td>1.0</td>\n",
       "      <td>NaN</td>\n",
       "      <td>NaN</td>\n",
       "      <td>NaN</td>\n",
       "      <td>NaN</td>\n",
       "      <td>NaN</td>\n",
       "      <td>NaN</td>\n",
       "      <td>NaN</td>\n",
       "      <td>NaN</td>\n",
       "      <td>NaN</td>\n",
       "      <td>NaN</td>\n",
       "      <td>NaN</td>\n",
       "      <td>NaN</td>\n",
       "      <td>NaN</td>\n",
       "      <td>start your own business</td>\n",
       "      <td>NaN</td>\n",
       "      <td>150.0</td>\n",
       "      <td>some college credit, no degree</td>\n",
       "      <td>NaN</td>\n",
       "    </tr>\n",
       "    <tr>\n",
       "      <th>1</th>\n",
       "      <td>34.0</td>\n",
       "      <td>less than 100,000</td>\n",
       "      <td>United States of America</td>\n",
       "      <td>NaN</td>\n",
       "      <td>Not working but looking for work</td>\n",
       "      <td>male</td>\n",
       "      <td>NaN</td>\n",
       "      <td>1.0</td>\n",
       "      <td>NaN</td>\n",
       "      <td>0.0</td>\n",
       "      <td>NaN</td>\n",
       "      <td>NaN</td>\n",
       "      <td>NaN</td>\n",
       "      <td>NaN</td>\n",
       "      <td>NaN</td>\n",
       "      <td>1.0</td>\n",
       "      <td>NaN</td>\n",
       "      <td>NaN</td>\n",
       "      <td>NaN</td>\n",
       "      <td>NaN</td>\n",
       "      <td>NaN</td>\n",
       "      <td>work for a nonprofit</td>\n",
       "      <td>1.0</td>\n",
       "      <td>80.0</td>\n",
       "      <td>some college credit, no degree</td>\n",
       "      <td>NaN</td>\n",
       "    </tr>\n",
       "    <tr>\n",
       "      <th>2</th>\n",
       "      <td>21.0</td>\n",
       "      <td>more than 1 million</td>\n",
       "      <td>United States of America</td>\n",
       "      <td>software development and IT</td>\n",
       "      <td>Employed for wages</td>\n",
       "      <td>male</td>\n",
       "      <td>NaN</td>\n",
       "      <td>1.0</td>\n",
       "      <td>13000.0</td>\n",
       "      <td>1.0</td>\n",
       "      <td>1.0</td>\n",
       "      <td>NaN</td>\n",
       "      <td>NaN</td>\n",
       "      <td>1.0</td>\n",
       "      <td>1.0</td>\n",
       "      <td>1.0</td>\n",
       "      <td>NaN</td>\n",
       "      <td>NaN</td>\n",
       "      <td>1.0</td>\n",
       "      <td>NaN</td>\n",
       "      <td>NaN</td>\n",
       "      <td>work for a medium-sized company</td>\n",
       "      <td>1.0</td>\n",
       "      <td>1000.0</td>\n",
       "      <td>high school diploma or equivalent (GED)</td>\n",
       "      <td>NaN</td>\n",
       "    </tr>\n",
       "    <tr>\n",
       "      <th>3</th>\n",
       "      <td>26.0</td>\n",
       "      <td>between 100,000 and 1 million</td>\n",
       "      <td>Brazil</td>\n",
       "      <td>software development and IT</td>\n",
       "      <td>Employed for wages</td>\n",
       "      <td>male</td>\n",
       "      <td>0.0</td>\n",
       "      <td>1.0</td>\n",
       "      <td>24000.0</td>\n",
       "      <td>0.0</td>\n",
       "      <td>1.0</td>\n",
       "      <td>NaN</td>\n",
       "      <td>NaN</td>\n",
       "      <td>NaN</td>\n",
       "      <td>1.0</td>\n",
       "      <td>1.0</td>\n",
       "      <td>NaN</td>\n",
       "      <td>NaN</td>\n",
       "      <td>NaN</td>\n",
       "      <td>NaN</td>\n",
       "      <td>NaN</td>\n",
       "      <td>work for a medium-sized company</td>\n",
       "      <td>NaN</td>\n",
       "      <td>0.0</td>\n",
       "      <td>some college credit, no degree</td>\n",
       "      <td>NaN</td>\n",
       "    </tr>\n",
       "    <tr>\n",
       "      <th>4</th>\n",
       "      <td>20.0</td>\n",
       "      <td>between 100,000 and 1 million</td>\n",
       "      <td>Portugal</td>\n",
       "      <td>NaN</td>\n",
       "      <td>Not working but looking for work</td>\n",
       "      <td>female</td>\n",
       "      <td>NaN</td>\n",
       "      <td>1.0</td>\n",
       "      <td>NaN</td>\n",
       "      <td>0.0</td>\n",
       "      <td>1.0</td>\n",
       "      <td>NaN</td>\n",
       "      <td>NaN</td>\n",
       "      <td>NaN</td>\n",
       "      <td>1.0</td>\n",
       "      <td>1.0</td>\n",
       "      <td>NaN</td>\n",
       "      <td>1.0</td>\n",
       "      <td>1.0</td>\n",
       "      <td>NaN</td>\n",
       "      <td>NaN</td>\n",
       "      <td>work for a multinational corporation</td>\n",
       "      <td>1.0</td>\n",
       "      <td>0.0</td>\n",
       "      <td>bachelor's degree</td>\n",
       "      <td>Information Technology</td>\n",
       "    </tr>\n",
       "  </tbody>\n",
       "</table>\n",
       "</div>"
      ],
      "text/plain": [
       "    Age                 CityPopulation               CountryLive  \\\n",
       "0  27.0            more than 1 million                    Canada   \n",
       "1  34.0              less than 100,000  United States of America   \n",
       "2  21.0            more than 1 million  United States of America   \n",
       "3  26.0  between 100,000 and 1 million                    Brazil   \n",
       "4  20.0  between 100,000 and 1 million                  Portugal   \n",
       "\n",
       "               EmploymentField                  EmploymentStatus  Gender  \\\n",
       "0  software development and IT                Employed for wages  female   \n",
       "1                          NaN  Not working but looking for work    male   \n",
       "2  software development and IT                Employed for wages    male   \n",
       "3  software development and IT                Employed for wages    male   \n",
       "4                          NaN  Not working but looking for work  female   \n",
       "\n",
       "   HasChildren  HasHighSpdInternet   Income  IsEthnicMinority  \\\n",
       "0          NaN                 1.0      NaN               NaN   \n",
       "1          NaN                 1.0      NaN               0.0   \n",
       "2          NaN                 1.0  13000.0               1.0   \n",
       "3          0.0                 1.0  24000.0               0.0   \n",
       "4          NaN                 1.0      NaN               0.0   \n",
       "\n",
       "   JobInterestBackEnd  JobInterestDataEngr  JobInterestDataSci  \\\n",
       "0                 NaN                  NaN                 NaN   \n",
       "1                 NaN                  NaN                 NaN   \n",
       "2                 1.0                  NaN                 NaN   \n",
       "3                 1.0                  NaN                 NaN   \n",
       "4                 1.0                  NaN                 NaN   \n",
       "\n",
       "   JobInterestDevOps  JobInterestFrontEnd  JobInterestFullStack  \\\n",
       "0                NaN                  NaN                   NaN   \n",
       "1                NaN                  NaN                   1.0   \n",
       "2                1.0                  1.0                   1.0   \n",
       "3                NaN                  1.0                   1.0   \n",
       "4                NaN                  1.0                   1.0   \n",
       "\n",
       "   JobInterestGameDev  JobInterestInfoSec  JobInterestMobile  \\\n",
       "0                 NaN                 NaN                NaN   \n",
       "1                 NaN                 NaN                NaN   \n",
       "2                 NaN                 NaN                1.0   \n",
       "3                 NaN                 NaN                NaN   \n",
       "4                 NaN                 1.0                1.0   \n",
       "\n",
       "   JobInterestQAEngr  JobInterestUX                               JobPref  \\\n",
       "0                NaN            NaN               start your own business   \n",
       "1                NaN            NaN                  work for a nonprofit   \n",
       "2                NaN            NaN       work for a medium-sized company   \n",
       "3                NaN            NaN       work for a medium-sized company   \n",
       "4                NaN            NaN  work for a multinational corporation   \n",
       "\n",
       "   JobRelocateYesNo  MoneyForLearning  \\\n",
       "0               NaN             150.0   \n",
       "1               1.0              80.0   \n",
       "2               1.0            1000.0   \n",
       "3               NaN               0.0   \n",
       "4               1.0               0.0   \n",
       "\n",
       "                              SchoolDegree             SchoolMajor  \n",
       "0           some college credit, no degree                     NaN  \n",
       "1           some college credit, no degree                     NaN  \n",
       "2  high school diploma or equivalent (GED)                     NaN  \n",
       "3           some college credit, no degree                     NaN  \n",
       "4                        bachelor's degree  Information Technology  "
      ]
     },
     "execution_count": 5,
     "metadata": {},
     "output_type": "execute_result"
    }
   ],
   "source": [
    "relevant_survey.head()"
   ]
  },
  {
   "cell_type": "markdown",
   "metadata": {},
   "source": [
    "Before starting to analyze the sample data we have, we need to clarify whether it's representative for our population of interest and it has the right categories of people for our purpose.\n",
    "\n",
    "The *\"JobRoleInterest\"* column describes for every participant the role(s) they'd be interested in working. Firstly, let's merge all JobInterest columns into one"
   ]
  },
  {
   "cell_type": "code",
   "execution_count": 6,
   "metadata": {
    "collapsed": false
   },
   "outputs": [
    {
     "name": "stdout",
     "output_type": "stream",
     "text": [
      "['BackEnd', 'DataEngr', 'DataSci', 'DevOps', 'FrontEnd', 'FullStack', 'GameDev', 'InfoSec', 'Mobile', 'QAEngr', 'UX']\n"
     ]
    }
   ],
   "source": [
    "#create an expression to extract the roles\n",
    "job_int_pattern = \"JobInterest(\\w+)\"\n",
    "job_interests = [re.findall(job_int_pattern, column)[0] for column in relevant_survey.columns if re.findall(job_int_pattern, column) != []]\n",
    "print(job_interests)"
   ]
  },
  {
   "cell_type": "code",
   "execution_count": 7,
   "metadata": {
    "collapsed": false
   },
   "outputs": [
    {
     "data": {
      "text/plain": [
       "0                                                NaN\n",
       "1                                        [FullStack]\n",
       "2     [BackEnd, DevOps, FrontEnd, FullStack, Mobile]\n",
       "3                     [BackEnd, FrontEnd, FullStack]\n",
       "4    [BackEnd, FrontEnd, FullStack, InfoSec, Mobile]\n",
       "Name: Job Interest, dtype: object"
      ]
     },
     "execution_count": 7,
     "metadata": {},
     "output_type": "execute_result"
    }
   ],
   "source": [
    "#rename columns according to their roles\n",
    "relevant_survey.rename({\"JobInterestBackEnd\":\"BackEnd\",\n",
    "                        \"JobInterestDataEngr\":\"DataEngr\",\n",
    "                        \"JobInterestDataSci\":\"DataSci\",\n",
    "                        \"JobInterestDevOps\":\"DevOps\",\n",
    "                        \"JobInterestFrontEnd\":\"FrontEnd\",\n",
    "                        \"JobInterestFullStack\":\"FullStack\",\n",
    "                        \"JobInterestGameDev\":\"GameDev\",\n",
    "                        \"JobInterestInfoSec\":\"InfoSec\",\n",
    "                        \"JobInterestMobile\":\"Mobile\",\n",
    "                        \"JobInterestQAEngr\":\"QAEngr\",\n",
    "                        \"JobInterestUX\":\"UX\"}, axis = 1, inplace = True)\n",
    "\n",
    "for job in job_interests: \n",
    "    relevant_survey[job].replace({np.nan : False, 1.0: True}, inplace = True)\n",
    "    \n",
    "#define the function that store all job interesets into one list instead of separate each\n",
    "def interest_merge(row):\n",
    "    job_interest = []\n",
    "    \n",
    "    for job in job_interests: \n",
    "        if row.loc[job] == True:\n",
    "            job_interest.append(job)\n",
    "    if len(job_interest) > 0:\n",
    "        return job_interest\n",
    "    else:\n",
    "        return np.nan\n",
    "\n",
    "relevant_survey[\"Job Interest\"] = relevant_survey.apply(interest_merge, axis =1)\n",
    "relevant_survey[\"Job Interest\"].head()"
   ]
  },
  {
   "cell_type": "code",
   "execution_count": 8,
   "metadata": {
    "collapsed": true
   },
   "outputs": [],
   "source": [
    "#Let's drop all JobInterest's columns because we don't need them anymore\n",
    "relevant_survey.drop(job_interests, axis =1, inplace = True)"
   ]
  },
  {
   "cell_type": "code",
   "execution_count": 9,
   "metadata": {
    "collapsed": false
   },
   "outputs": [
    {
     "name": "stdout",
     "output_type": "stream",
     "text": [
      "Index(['Age', 'CityPopulation', 'CountryLive', 'EmploymentField',\n",
      "       'EmploymentStatus', 'Gender', 'HasChildren', 'HasHighSpdInternet',\n",
      "       'Income', 'IsEthnicMinority', 'JobPref', 'JobRelocateYesNo',\n",
      "       'MoneyForLearning', 'SchoolDegree', 'SchoolMajor', 'Job Interest'],\n",
      "      dtype='object')\n"
     ]
    }
   ],
   "source": [
    "print(relevant_survey.columns)"
   ]
  },
  {
   "cell_type": "markdown",
   "metadata": {},
   "source": [
    "## Check Other Columns"
   ]
  },
  {
   "cell_type": "code",
   "execution_count": 10,
   "metadata": {
    "collapsed": false
   },
   "outputs": [
    {
     "name": "stdout",
     "output_type": "stream",
     "text": [
      "<class 'pandas.core.frame.DataFrame'>\n",
      "RangeIndex: 18175 entries, 0 to 18174\n",
      "Data columns (total 16 columns):\n",
      "Age                   15367 non-null float64\n",
      "CityPopulation        15354 non-null object\n",
      "CountryLive           15336 non-null object\n",
      "EmploymentField       8116 non-null object\n",
      "EmploymentStatus      14345 non-null object\n",
      "Gender                15454 non-null object\n",
      "HasChildren           3858 non-null float64\n",
      "HasHighSpdInternet    15380 non-null float64\n",
      "Income                7623 non-null float64\n",
      "IsEthnicMinority      15293 non-null float64\n",
      "JobPref               13483 non-null object\n",
      "JobRelocateYesNo      6503 non-null float64\n",
      "MoneyForLearning      16577 non-null float64\n",
      "SchoolDegree          15368 non-null object\n",
      "SchoolMajor           8727 non-null object\n",
      "Job Interest          7927 non-null object\n",
      "dtypes: float64(7), object(9)\n",
      "memory usage: 2.2+ MB\n"
     ]
    }
   ],
   "source": [
    "relevant_survey.info()"
   ]
  },
  {
   "cell_type": "code",
   "execution_count": 11,
   "metadata": {
    "collapsed": false
   },
   "outputs": [
    {
     "data": {
      "text/plain": [
       "count    15367.000000\n",
       "mean        27.691872\n",
       "std          8.559239\n",
       "min          0.000000\n",
       "25%         22.000000\n",
       "50%         26.000000\n",
       "75%         32.000000\n",
       "max         90.000000\n",
       "Name: Age, dtype: float64"
      ]
     },
     "execution_count": 11,
     "metadata": {},
     "output_type": "execute_result"
    }
   ],
   "source": [
    "relevant_survey[\"Age\"].describe()"
   ]
  },
  {
   "cell_type": "code",
   "execution_count": 12,
   "metadata": {
    "collapsed": false
   },
   "outputs": [
    {
     "data": {
      "text/plain": [
       " 90.0       1\n",
       " 76.0       1\n",
       " 75.0       1\n",
       " 73.0       1\n",
       " 72.0       2\n",
       " 71.0       3\n",
       " 70.0       6\n",
       " 69.0       5\n",
       " 68.0       3\n",
       " 67.0       1\n",
       " 66.0       2\n",
       " 65.0       2\n",
       " 64.0       1\n",
       " 63.0       7\n",
       " 62.0       8\n",
       " 61.0      15\n",
       " 60.0      17\n",
       " 59.0      22\n",
       " 58.0      24\n",
       " 57.0      24\n",
       " 56.0      21\n",
       " 55.0      30\n",
       " 54.0      29\n",
       " 53.0      34\n",
       " 52.0      29\n",
       " 51.0      21\n",
       " 50.0      80\n",
       " 49.0      57\n",
       " 48.0      59\n",
       " 47.0      87\n",
       "         ... \n",
       " 32.0     474\n",
       " 31.0     456\n",
       " 30.0     620\n",
       " 29.0     648\n",
       " 28.0     728\n",
       " 27.0     852\n",
       " 26.0     933\n",
       " 25.0     922\n",
       " 24.0     994\n",
       " 23.0     895\n",
       " 22.0     853\n",
       " 21.0     840\n",
       " 20.0     742\n",
       " 19.0     587\n",
       " 18.0     459\n",
       " 17.0     319\n",
       " 16.0     234\n",
       " 15.0     164\n",
       " 14.0      92\n",
       " 13.0      54\n",
       " 12.0      30\n",
       " 11.0       7\n",
       " 10.0       3\n",
       " 8.0        2\n",
       " 5.0        1\n",
       " 3.0        1\n",
       " 2.0        2\n",
       " 1.0        2\n",
       " 0.0        4\n",
       "NaN      2808\n",
       "Name: Age, Length: 74, dtype: int64"
      ]
     },
     "execution_count": 12,
     "metadata": {},
     "output_type": "execute_result"
    }
   ],
   "source": [
    "relevant_survey.Age.value_counts(dropna = False).sort_index(ascending = False)"
   ]
  },
  {
   "cell_type": "markdown",
   "metadata": {},
   "source": [
    "We have to drop all incorrect ages which are lower than 10 years old"
   ]
  },
  {
   "cell_type": "code",
   "execution_count": 13,
   "metadata": {
    "collapsed": false
   },
   "outputs": [
    {
     "data": {
      "text/plain": [
       " 13.0      54\n",
       " 12.0      30\n",
       " 11.0       7\n",
       " 10.0       3\n",
       "NaN      2808\n",
       "Name: Age, dtype: int64"
      ]
     },
     "execution_count": 13,
     "metadata": {},
     "output_type": "execute_result"
    }
   ],
   "source": [
    "relevant_survey = relevant_survey[(relevant_survey[\"Age\"] >= 10) | (relevant_survey[\"Age\"].isnull())]\n",
    "relevant_survey.Age.value_counts(dropna = False).sort_index(ascending = False).tail()"
   ]
  },
  {
   "cell_type": "code",
   "execution_count": 14,
   "metadata": {
    "collapsed": false
   },
   "outputs": [
    {
     "data": {
      "text/plain": [
       "Great     6529\n",
       "Medium    5275\n",
       "Small     3541\n",
       "NaN       2818\n",
       "Name: CityPopulation, dtype: int64"
      ]
     },
     "execution_count": 14,
     "metadata": {},
     "output_type": "execute_result"
    }
   ],
   "source": [
    "relevant_survey[\"CityPopulation\"].value_counts(dropna = False)\n",
    "#let's rename this column to be more suitable for plotting\n",
    "relevant_survey[\"CityPopulation\"].replace({\"more than 1 million\":\"Great\",\n",
    "                                          \"between 100,000 and 1 million\":\"Medium\",\n",
    "                                          \"less than 100,000\" : \"Small\"}, inplace = True)\n",
    "\n",
    "relevant_survey[\"CityPopulation\"].value_counts(dropna = False)"
   ]
  },
  {
   "cell_type": "code",
   "execution_count": 15,
   "metadata": {
    "collapsed": false
   },
   "outputs": [
    {
     "data": {
      "text/plain": [
       "United States of America         5790\n",
       "NaN                              2837\n",
       "India                            1400\n",
       "United Kingdom                    757\n",
       "Canada                            614\n",
       "Brazil                            364\n",
       "Germany                           324\n",
       "Poland                            265\n",
       "Russia                            262\n",
       "Australia                         259\n",
       "France                            228\n",
       "Spain                             217\n",
       "Nigeria                           213\n",
       "Ukraine                           201\n",
       "Romania                           171\n",
       "Italy                             164\n",
       "Mexico                            155\n",
       "Netherlands (Holland, Europe)     142\n",
       "Philippines                       135\n",
       "South Africa                      126\n",
       "Turkey                            120\n",
       "Greece                            116\n",
       "Serbia                            115\n",
       "Argentina                         113\n",
       "Pakistan                          109\n",
       "Kenya                              92\n",
       "Indonesia                          91\n",
       "China                              89\n",
       "Egypt                              87\n",
       "Sweden                             80\n",
       "                                 ... \n",
       "Tanzania                            2\n",
       "New Caledonia                       1\n",
       "Channel Islands                     1\n",
       "Kuwait                              1\n",
       "Samoa                               1\n",
       "Greenland                           1\n",
       "Yemen                               1\n",
       "Aruba                               1\n",
       "Burundi                             1\n",
       "Madagascar                          1\n",
       "Isle of Man                         1\n",
       "Gibraltar                           1\n",
       "Guadeloupe                          1\n",
       "Botswana                            1\n",
       "Tajikistan                          1\n",
       "Hawaii                              1\n",
       "Barbados                            1\n",
       "Rwanda                              1\n",
       "Sierra Leone                        1\n",
       "Liberia                             1\n",
       "Canary Islands                      1\n",
       "Gabon                               1\n",
       "Vanuatu                             1\n",
       "Korea North                         1\n",
       "Virgin Islands (British)            1\n",
       "Martinique                          1\n",
       "Curacao                             1\n",
       "British Indian Ocean Ter            1\n",
       "Bermuda                             1\n",
       "Anguilla                            1\n",
       "Name: CountryLive, Length: 173, dtype: int64"
      ]
     },
     "execution_count": 15,
     "metadata": {},
     "output_type": "execute_result"
    }
   ],
   "source": [
    "relevant_survey.CountryLive.value_counts(dropna = False)"
   ]
  },
  {
   "cell_type": "code",
   "execution_count": 16,
   "metadata": {
    "collapsed": false
   },
   "outputs": [
    {
     "data": {
      "text/plain": [
       "architecture or physical engineering       202\n",
       "arts, entertainment, sports, or media      372\n",
       "construction and extraction                129\n",
       "education                                  626\n",
       "farming, fishing, and forestry              38\n",
       "finance                                    264\n",
       "food and beverage                          386\n",
       "health care                                324\n",
       "law enforcement and fire and rescue         40\n",
       "legal                                       70\n",
       "office and administrative support          361\n",
       "sales                                      415\n",
       "software development and IT               4718\n",
       "transportation                             167\n",
       "NaN                                      10051\n",
       "Name: EmploymentField, dtype: int64"
      ]
     },
     "execution_count": 16,
     "metadata": {},
     "output_type": "execute_result"
    }
   ],
   "source": [
    "relevant_survey.EmploymentField.value_counts(dropna = False).sort_index()"
   ]
  },
  {
   "cell_type": "code",
   "execution_count": 17,
   "metadata": {
    "collapsed": false,
    "scrolled": true
   },
   "outputs": [
    {
     "data": {
      "text/plain": [
       "A stay-at-home parent or homemaker       214\n",
       "Doing an unpaid internship               339\n",
       "Employed for wages                      7620\n",
       "Military                                  87\n",
       "Not working and not looking for work     906\n",
       "Not working but looking for work        3147\n",
       "Retired                                   32\n",
       "Self-employed business owner             534\n",
       "Self-employed freelancer                1198\n",
       "Unable to work                           261\n",
       "NaN                                     3825\n",
       "Name: EmploymentStatus, dtype: int64"
      ]
     },
     "execution_count": 17,
     "metadata": {},
     "output_type": "execute_result"
    }
   ],
   "source": [
    "relevant_survey.EmploymentStatus.value_counts(dropna = False).sort_index()"
   ]
  },
  {
   "cell_type": "code",
   "execution_count": 18,
   "metadata": {
    "collapsed": false
   },
   "outputs": [
    {
     "data": {
      "text/plain": [
       "agender           37\n",
       "female          2929\n",
       "genderqueer       71\n",
       "male           12340\n",
       "trans             68\n",
       "NaN             2718\n",
       "Name: Gender, dtype: int64"
      ]
     },
     "execution_count": 18,
     "metadata": {},
     "output_type": "execute_result"
    }
   ],
   "source": [
    "relevant_survey.Gender.value_counts(dropna = False).sort_index()"
   ]
  },
  {
   "cell_type": "code",
   "execution_count": 19,
   "metadata": {
    "collapsed": false
   },
   "outputs": [],
   "source": [
    "relevant_survey.HasChildren.value_counts(dropna = False).sort_index()\n",
    "#Too much missing values, let's drop the column\n",
    "relevant_survey.drop(\"HasChildren\",axis = 1 ,inplace = True)"
   ]
  },
  {
   "cell_type": "code",
   "execution_count": 20,
   "metadata": {
    "collapsed": false
   },
   "outputs": [
    {
     "data": {
      "text/plain": [
       " 0.0     2230\n",
       " 1.0    13141\n",
       "NaN      2792\n",
       "Name: HasHighSpdInternet, dtype: int64"
      ]
     },
     "execution_count": 20,
     "metadata": {},
     "output_type": "execute_result"
    }
   ],
   "source": [
    "relevant_survey.HasHighSpdInternet.value_counts(dropna = False).sort_index()"
   ]
  },
  {
   "cell_type": "code",
   "execution_count": 21,
   "metadata": {
    "collapsed": false
   },
   "outputs": [
    {
     "data": {
      "text/plain": [
       " 6000.0         204\n",
       " 6120.0           1\n",
       " 6150.0           1\n",
       " 6163.0           1\n",
       " 6200.0           1\n",
       " 6240.0           2\n",
       " 6250.0           1\n",
       " 6263.0           1\n",
       " 6290.0           1\n",
       " 6300.0           3\n",
       " 6335.0           1\n",
       " 6336.0           1\n",
       " 6376.0           1\n",
       " 6400.0           3\n",
       " 6411.0           1\n",
       " 6444.0           1\n",
       " 6480.0           2\n",
       " 6500.0          13\n",
       " 6511.0           1\n",
       " 6548.0           1\n",
       " 6556.0           1\n",
       " 6600.0           7\n",
       " 6666.0           1\n",
       " 6700.0           2\n",
       " 6783.0           1\n",
       " 6800.0           1\n",
       " 6857.0           1\n",
       " 6969.0           1\n",
       " 7000.0          90\n",
       " 7075.0           1\n",
       "              ...  \n",
       " 175000.0         2\n",
       " 176800.0         1\n",
       " 180000.0        11\n",
       " 183000.0         1\n",
       " 185000.0         1\n",
       " 186000.0         1\n",
       " 190000.0         1\n",
       " 200000.0        33\n",
       " 205000.0         1\n",
       " 210000.0         1\n",
       " 220000.0         1\n",
       " 240000.0         2\n",
       " 246212.0         1\n",
       " 250000.0         3\n",
       " 272349.0         1\n",
       " 280000.0         1\n",
       " 300000.0         8\n",
       " 305927.0         1\n",
       " 318512.0         1\n",
       " 324837.0         1\n",
       " 343413.0         1\n",
       " 350000.0         3\n",
       " 370000.0         1\n",
       " 450000.0         1\n",
       " 500000.0         2\n",
       " 602228.0         1\n",
       " 700000.0         1\n",
       " 945000.0         1\n",
       " 1000000.0       20\n",
       "NaN           10541\n",
       "Name: Income, Length: 586, dtype: int64"
      ]
     },
     "execution_count": 21,
     "metadata": {},
     "output_type": "execute_result"
    }
   ],
   "source": [
    "relevant_survey.Income.value_counts(dropna = False).sort_index()"
   ]
  },
  {
   "cell_type": "code",
   "execution_count": 22,
   "metadata": {
    "collapsed": false
   },
   "outputs": [
    {
     "data": {
      "text/plain": [
       " 0.0    11647\n",
       " 1.0     3637\n",
       "NaN      2879\n",
       "Name: IsEthnicMinority, dtype: int64"
      ]
     },
     "execution_count": 22,
     "metadata": {},
     "output_type": "execute_result"
    }
   ],
   "source": [
    "relevant_survey.IsEthnicMinority.value_counts(dropna = False).sort_index()"
   ]
  },
  {
   "cell_type": "code",
   "execution_count": 23,
   "metadata": {
    "collapsed": false
   },
   "outputs": [
    {
     "data": {
      "text/plain": [
       "freelance                               2619\n",
       "start your own business                 2778\n",
       "work for a government                    366\n",
       "work for a medium-sized company         2977\n",
       "work for a multinational corporation    1700\n",
       "work for a nonprofit                     834\n",
       "work for a startup                      2199\n",
       "NaN                                     4690\n",
       "Name: JobPref, dtype: int64"
      ]
     },
     "execution_count": 23,
     "metadata": {},
     "output_type": "execute_result"
    }
   ],
   "source": [
    "relevant_survey.JobPref.value_counts(dropna = False).sort_index()"
   ]
  },
  {
   "cell_type": "code",
   "execution_count": 24,
   "metadata": {
    "collapsed": false
   },
   "outputs": [
    {
     "data": {
      "text/plain": [
       "freelance                               2619\n",
       "start your own business                 2778\n",
       "work for a government                    366\n",
       "work for a medium-sized company         2977\n",
       "work for a multinational corporation    1700\n",
       "work for a nonprofit                     834\n",
       "work for a startup                      2199\n",
       "NaN                                     4690\n",
       "Name: JobPref, dtype: int64"
      ]
     },
     "execution_count": 24,
     "metadata": {},
     "output_type": "execute_result"
    }
   ],
   "source": [
    "relevant_survey.JobPref.value_counts(dropna = False).sort_index()"
   ]
  },
  {
   "cell_type": "code",
   "execution_count": 25,
   "metadata": {
    "collapsed": false
   },
   "outputs": [
    {
     "data": {
      "text/plain": [
       " 0.0     1482\n",
       " 1.0     5017\n",
       "NaN     11664\n",
       "Name: JobRelocateYesNo, dtype: int64"
      ]
     },
     "execution_count": 25,
     "metadata": {},
     "output_type": "execute_result"
    }
   ],
   "source": [
    "relevant_survey.JobRelocateYesNo.value_counts(dropna = False).sort_index()"
   ]
  },
  {
   "cell_type": "code",
   "execution_count": 26,
   "metadata": {
    "collapsed": false
   },
   "outputs": [
    {
     "data": {
      "text/plain": [
       " 0.0         7982\n",
       " 1.0           22\n",
       " 2.0            4\n",
       " 3.0            8\n",
       " 4.0            7\n",
       " 5.0           40\n",
       " 6.0            5\n",
       " 7.0            1\n",
       " 8.0            6\n",
       " 9.0            4\n",
       " 10.0         211\n",
       " 12.0           9\n",
       " 13.0           5\n",
       " 14.0           1\n",
       " 15.0         103\n",
       " 16.0           1\n",
       " 17.0           1\n",
       " 18.0           5\n",
       " 19.0          13\n",
       " 20.0         314\n",
       " 21.0           2\n",
       " 22.0           5\n",
       " 23.0           6\n",
       " 24.0           2\n",
       " 25.0          68\n",
       " 26.0           2\n",
       " 27.0           2\n",
       " 28.0           1\n",
       " 29.0           5\n",
       " 30.0         201\n",
       "             ... \n",
       " 20000.0       57\n",
       " 21000.0        1\n",
       " 22000.0        4\n",
       " 23000.0        4\n",
       " 24310.0        1\n",
       " 24500.0        1\n",
       " 25000.0       15\n",
       " 26000.0        1\n",
       " 27000.0        1\n",
       " 28000.0        1\n",
       " 30000.0       15\n",
       " 31337.0        1\n",
       " 35000.0        2\n",
       " 36000.0        1\n",
       " 40000.0        3\n",
       " 45000.0        2\n",
       " 50000.0        4\n",
       " 60000.0        3\n",
       " 65000.0        1\n",
       " 69000.0        1\n",
       " 70000.0        1\n",
       " 80000.0        1\n",
       " 90000.0        1\n",
       " 99999.0        1\n",
       " 100000.0       5\n",
       " 120000.0       1\n",
       " 170000.0       1\n",
       " 200000.0       2\n",
       " 210000.0       1\n",
       "NaN          1596\n",
       "Name: MoneyForLearning, Length: 334, dtype: int64"
      ]
     },
     "execution_count": 26,
     "metadata": {},
     "output_type": "execute_result"
    }
   ],
   "source": [
    "relevant_survey.MoneyForLearning.value_counts(dropna = False).sort_index()"
   ]
  },
  {
   "cell_type": "code",
   "execution_count": 27,
   "metadata": {
    "collapsed": false
   },
   "outputs": [
    {
     "data": {
      "text/plain": [
       "Ph.D.                                        132\n",
       "associate's degree                           641\n",
       "bachelor's degree                           5848\n",
       "high school diploma or equivalent (GED)     1871\n",
       "master's degree (non-professional)          1468\n",
       "no high school (secondary school)            405\n",
       "professional degree (MBA, MD, JD, etc.)      775\n",
       "some college credit, no degree              2602\n",
       "some high school                            1112\n",
       "trade, technical, or vocational training     504\n",
       "NaN                                         2805\n",
       "Name: SchoolDegree, dtype: int64"
      ]
     },
     "execution_count": 27,
     "metadata": {},
     "output_type": "execute_result"
    }
   ],
   "source": [
    "relevant_survey.SchoolDegree.value_counts(dropna = False).sort_index()"
   ]
  },
  {
   "cell_type": "code",
   "execution_count": 28,
   "metadata": {
    "collapsed": false
   },
   "outputs": [
    {
     "data": {
      "text/plain": [
       "Accounting                                        115\n",
       "Accounting Technician and Bookkeeping              10\n",
       "Acting                                              7\n",
       "Actuarial Science                                   6\n",
       "Acupuncture                                         1\n",
       "Acupuncture and Oriental Medicine                   2\n",
       "Administrative Assistant                            4\n",
       "Adult Development and Aging                         1\n",
       "Adult Health Nursing                                1\n",
       "Adult and Continuing Education                      3\n",
       "Advanced Dentistry and Oral Sciences                1\n",
       "Advertising                                        15\n",
       "Advertising and Marketing                          19\n",
       "Aeronautics and Aviation Technology                 4\n",
       "Aerospace Engineering Technician                    1\n",
       "Aerospace and Aeronautical Engineering             30\n",
       "African American Studies                            3\n",
       "African Studies                                     1\n",
       "Agricultural Business and Technology                3\n",
       "Agricultural Economics                              3\n",
       "Agricultural Engineering                            7\n",
       "Agricultural Mechanics and Machinery                1\n",
       "Agricultural and Food Products Processing           3\n",
       "Agriculture                                         4\n",
       "Agronomy, Range, and Crop Science                   1\n",
       "Air Traffic Control                                 1\n",
       "Aircraft Maintenance                                1\n",
       "Anatomy                                             2\n",
       "Animal Husbandry                                    1\n",
       "Animal Physiology and Behavior                      1\n",
       "                                                 ... \n",
       "System, Networking, and LAN/WAN Management          6\n",
       "Systems Engineering                                35\n",
       "Systems Science and Theory                          1\n",
       "Talmudic and Rabbinical Studies                     2\n",
       "Taxation                                            1\n",
       "Teacher Education for Multiple Levels               4\n",
       "Teaching Assistant                                  1\n",
       "Teaching English as a Second Language               9\n",
       "Technical Teacher Education                         1\n",
       "Telecommunications Technician                      13\n",
       "Theatre Design                                      9\n",
       "Theatre, Arts, and Media Management                 3\n",
       "Theological and Ministerial Studies                 3\n",
       "Theology                                            7\n",
       "Tourism and Travel Services Management             10\n",
       "Truck,  Bus, and Commercial Vehicle Operation       1\n",
       "Turf Management                                     1\n",
       "Urban Planning                                      4\n",
       "Urban Studies and Affairs                           1\n",
       "Urban, Community and Regional Planning              3\n",
       "Veterinary Technician and Assistant                 1\n",
       "Visual Arts                                         9\n",
       "Vocational Rehabilitation Counseling                1\n",
       "Web Design                                         35\n",
       "Web Page and Digital Design                         9\n",
       "Welding                                             2\n",
       "Wildlife Biology                                    2\n",
       "Women's Studies                                     4\n",
       "Zoology                                             6\n",
       "NaN                                              9442\n",
       "Name: SchoolMajor, Length: 472, dtype: int64"
      ]
     },
     "execution_count": 28,
     "metadata": {},
     "output_type": "execute_result"
    }
   ],
   "source": [
    "relevant_survey.SchoolMajor.value_counts(dropna = False).sort_index()"
   ]
  },
  {
   "cell_type": "markdown",
   "metadata": {},
   "source": [
    "Since the some columns have too many missing values, there is no reason to keep them. Also, these columns are not so important for us, so we can drop them:  \n",
    "- EmploymentField\n",
    "- JobRelocateYesNo\n",
    "- SchoolMajor\n",
    "- Income"
   ]
  },
  {
   "cell_type": "code",
   "execution_count": 29,
   "metadata": {
    "collapsed": false
   },
   "outputs": [],
   "source": [
    "relevant_survey.drop(columns= [\"EmploymentField\",\"JobRelocateYesNo\",\"SchoolMajor\",\"Income\"], inplace = True)"
   ]
  },
  {
   "cell_type": "markdown",
   "metadata": {},
   "source": [
    "For now, we will sort our dataframe again, to see only non null values in \"Job Interest\" column."
   ]
  },
  {
   "cell_type": "code",
   "execution_count": 30,
   "metadata": {
    "collapsed": false
   },
   "outputs": [
    {
     "name": "stdout",
     "output_type": "stream",
     "text": [
      "<class 'pandas.core.frame.DataFrame'>\n",
      "Int64Index: 7921 entries, 1 to 18174\n",
      "Data columns (total 11 columns):\n",
      "Age                   6649 non-null float64\n",
      "CityPopulation        6647 non-null object\n",
      "CountryLive           6646 non-null object\n",
      "EmploymentStatus      6114 non-null object\n",
      "Gender                6701 non-null object\n",
      "HasHighSpdInternet    6672 non-null float64\n",
      "IsEthnicMinority      6614 non-null float64\n",
      "JobPref               7843 non-null object\n",
      "MoneyForLearning      7269 non-null float64\n",
      "SchoolDegree          6652 non-null object\n",
      "Job Interest          7921 non-null object\n",
      "dtypes: float64(4), object(7)\n",
      "memory usage: 742.6+ KB\n"
     ]
    }
   ],
   "source": [
    "nonull_survey = relevant_survey[relevant_survey[\"Job Interest\"].notnull()].copy()\n",
    "nonull_survey.info()"
   ]
  },
  {
   "cell_type": "markdown",
   "metadata": {},
   "source": [
    "Now we can clear rows that have too many missing values"
   ]
  },
  {
   "cell_type": "code",
   "execution_count": 31,
   "metadata": {
    "collapsed": false
   },
   "outputs": [
    {
     "name": "stdout",
     "output_type": "stream",
     "text": [
      "<class 'pandas.core.frame.DataFrame'>\n",
      "Int64Index: 6725 entries, 1 to 18174\n",
      "Data columns (total 11 columns):\n",
      "Age                   6637 non-null float64\n",
      "CityPopulation        6638 non-null object\n",
      "CountryLive           6640 non-null object\n",
      "EmploymentStatus      6111 non-null object\n",
      "Gender                6682 non-null object\n",
      "HasHighSpdInternet    6664 non-null float64\n",
      "IsEthnicMinority      6608 non-null float64\n",
      "JobPref               6667 non-null object\n",
      "MoneyForLearning      6256 non-null float64\n",
      "SchoolDegree          6642 non-null object\n",
      "Job Interest          6725 non-null object\n",
      "dtypes: float64(4), object(7)\n",
      "memory usage: 630.5+ KB\n"
     ]
    }
   ],
   "source": [
    "nonull_survey.dropna(axis = 0, thresh = 7, inplace = True)\n",
    "nonull_survey.info()"
   ]
  },
  {
   "cell_type": "markdown",
   "metadata": {},
   "source": [
    "After we cleaned dataframe from missing values, we would like to know which customers are potentinal, because as we remebmer the column \"MoneyForLearning\" has wide spread of values and some of them don't look realistic. Let's specify this column"
   ]
  },
  {
   "cell_type": "code",
   "execution_count": 32,
   "metadata": {
    "collapsed": true
   },
   "outputs": [],
   "source": [
    "potentional_customers = nonull_survey[(nonull_survey[\"MoneyForLearning\"] <= 7000)\n",
    "                                     & (nonull_survey[\"MoneyForLearning\"] > 20)]"
   ]
  },
  {
   "cell_type": "code",
   "execution_count": 33,
   "metadata": {
    "collapsed": false
   },
   "outputs": [
    {
     "name": "stdout",
     "output_type": "stream",
     "text": [
      "<class 'pandas.core.frame.DataFrame'>\n",
      "Int64Index: 2707 entries, 1 to 18160\n",
      "Data columns (total 11 columns):\n",
      "Age                   2686 non-null float64\n",
      "CityPopulation        2682 non-null object\n",
      "CountryLive           2674 non-null object\n",
      "EmploymentStatus      2549 non-null object\n",
      "Gender                2694 non-null object\n",
      "HasHighSpdInternet    2687 non-null float64\n",
      "IsEthnicMinority      2679 non-null float64\n",
      "JobPref               2684 non-null object\n",
      "MoneyForLearning      2707 non-null float64\n",
      "SchoolDegree          2682 non-null object\n",
      "Job Interest          2707 non-null object\n",
      "dtypes: float64(4), object(7)\n",
      "memory usage: 253.8+ KB\n"
     ]
    }
   ],
   "source": [
    "potentional_customers.info()"
   ]
  },
  {
   "cell_type": "code",
   "execution_count": 34,
   "metadata": {
    "collapsed": true
   },
   "outputs": [],
   "source": [
    "pd.set_option('mode.chained_assignment', None)\n",
    "potentional_customers[[\"HasHighSpdInternet\",\"IsEthnicMinority\"]] = potentional_customers[[\"HasHighSpdInternet\",\"IsEthnicMinority\"]].replace({1.0 : True, 0.0 : False, np.nan : False})"
   ]
  },
  {
   "cell_type": "code",
   "execution_count": 35,
   "metadata": {
    "collapsed": false
   },
   "outputs": [
    {
     "data": {
      "text/html": [
       "<div>\n",
       "<style scoped>\n",
       "    .dataframe tbody tr th:only-of-type {\n",
       "        vertical-align: middle;\n",
       "    }\n",
       "\n",
       "    .dataframe tbody tr th {\n",
       "        vertical-align: top;\n",
       "    }\n",
       "\n",
       "    .dataframe thead th {\n",
       "        text-align: right;\n",
       "    }\n",
       "</style>\n",
       "<table border=\"1\" class=\"dataframe\">\n",
       "  <thead>\n",
       "    <tr style=\"text-align: right;\">\n",
       "      <th></th>\n",
       "      <th>Age</th>\n",
       "      <th>CityPopulation</th>\n",
       "      <th>CountryLive</th>\n",
       "      <th>EmploymentStatus</th>\n",
       "      <th>Gender</th>\n",
       "      <th>HasHighSpdInternet</th>\n",
       "      <th>IsEthnicMinority</th>\n",
       "      <th>JobPref</th>\n",
       "      <th>MoneyForLearning</th>\n",
       "      <th>SchoolDegree</th>\n",
       "      <th>Job Interest</th>\n",
       "    </tr>\n",
       "  </thead>\n",
       "  <tbody>\n",
       "    <tr>\n",
       "      <th>1</th>\n",
       "      <td>34.0</td>\n",
       "      <td>Small</td>\n",
       "      <td>United States of America</td>\n",
       "      <td>Not working but looking for work</td>\n",
       "      <td>male</td>\n",
       "      <td>True</td>\n",
       "      <td>False</td>\n",
       "      <td>work for a nonprofit</td>\n",
       "      <td>80.0</td>\n",
       "      <td>some college credit, no degree</td>\n",
       "      <td>[FullStack]</td>\n",
       "    </tr>\n",
       "    <tr>\n",
       "      <th>2</th>\n",
       "      <td>21.0</td>\n",
       "      <td>Great</td>\n",
       "      <td>United States of America</td>\n",
       "      <td>Employed for wages</td>\n",
       "      <td>male</td>\n",
       "      <td>True</td>\n",
       "      <td>True</td>\n",
       "      <td>work for a medium-sized company</td>\n",
       "      <td>1000.0</td>\n",
       "      <td>high school diploma or equivalent (GED)</td>\n",
       "      <td>[BackEnd, DevOps, FrontEnd, FullStack, Mobile]</td>\n",
       "    </tr>\n",
       "    <tr>\n",
       "      <th>9</th>\n",
       "      <td>24.0</td>\n",
       "      <td>Great</td>\n",
       "      <td>Mexico</td>\n",
       "      <td>Not working but looking for work</td>\n",
       "      <td>male</td>\n",
       "      <td>True</td>\n",
       "      <td>False</td>\n",
       "      <td>work for a medium-sized company</td>\n",
       "      <td>100.0</td>\n",
       "      <td>high school diploma or equivalent (GED)</td>\n",
       "      <td>[BackEnd, FrontEnd, FullStack, GameDev, QAEngr...</td>\n",
       "    </tr>\n",
       "    <tr>\n",
       "      <th>16</th>\n",
       "      <td>29.0</td>\n",
       "      <td>Medium</td>\n",
       "      <td>United States of America</td>\n",
       "      <td>Employed for wages</td>\n",
       "      <td>male</td>\n",
       "      <td>True</td>\n",
       "      <td>False</td>\n",
       "      <td>work for a medium-sized company</td>\n",
       "      <td>200.0</td>\n",
       "      <td>master's degree (non-professional)</td>\n",
       "      <td>[FullStack]</td>\n",
       "    </tr>\n",
       "    <tr>\n",
       "      <th>18</th>\n",
       "      <td>46.0</td>\n",
       "      <td>Great</td>\n",
       "      <td>United States of America</td>\n",
       "      <td>Self-employed freelancer</td>\n",
       "      <td>female</td>\n",
       "      <td>True</td>\n",
       "      <td>True</td>\n",
       "      <td>work for a nonprofit</td>\n",
       "      <td>500.0</td>\n",
       "      <td>bachelor's degree</td>\n",
       "      <td>[BackEnd, FrontEnd, FullStack, UX]</td>\n",
       "    </tr>\n",
       "  </tbody>\n",
       "</table>\n",
       "</div>"
      ],
      "text/plain": [
       "     Age CityPopulation               CountryLive  \\\n",
       "1   34.0          Small  United States of America   \n",
       "2   21.0          Great  United States of America   \n",
       "9   24.0          Great                    Mexico   \n",
       "16  29.0         Medium  United States of America   \n",
       "18  46.0          Great  United States of America   \n",
       "\n",
       "                    EmploymentStatus  Gender  HasHighSpdInternet  \\\n",
       "1   Not working but looking for work    male                True   \n",
       "2                 Employed for wages    male                True   \n",
       "9   Not working but looking for work    male                True   \n",
       "16                Employed for wages    male                True   \n",
       "18          Self-employed freelancer  female                True   \n",
       "\n",
       "    IsEthnicMinority                          JobPref  MoneyForLearning  \\\n",
       "1              False             work for a nonprofit              80.0   \n",
       "2               True  work for a medium-sized company            1000.0   \n",
       "9              False  work for a medium-sized company             100.0   \n",
       "16             False  work for a medium-sized company             200.0   \n",
       "18              True             work for a nonprofit             500.0   \n",
       "\n",
       "                               SchoolDegree  \\\n",
       "1            some college credit, no degree   \n",
       "2   high school diploma or equivalent (GED)   \n",
       "9   high school diploma or equivalent (GED)   \n",
       "16       master's degree (non-professional)   \n",
       "18                        bachelor's degree   \n",
       "\n",
       "                                         Job Interest  \n",
       "1                                         [FullStack]  \n",
       "2      [BackEnd, DevOps, FrontEnd, FullStack, Mobile]  \n",
       "9   [BackEnd, FrontEnd, FullStack, GameDev, QAEngr...  \n",
       "16                                        [FullStack]  \n",
       "18                 [BackEnd, FrontEnd, FullStack, UX]  "
      ]
     },
     "execution_count": 35,
     "metadata": {},
     "output_type": "execute_result"
    }
   ],
   "source": [
    "potentional_customers.head()"
   ]
  },
  {
   "cell_type": "markdown",
   "metadata": {},
   "source": [
    "Data is ready to analyze and vizualization"
   ]
  },
  {
   "cell_type": "markdown",
   "metadata": {},
   "source": [
    "## Analysis & Visualization of the Data"
   ]
  },
  {
   "cell_type": "markdown",
   "metadata": {},
   "source": [
    "The very first step in out analysis will be a defining the most popular categories of positions"
   ]
  },
  {
   "cell_type": "code",
   "execution_count": 36,
   "metadata": {
    "collapsed": false
   },
   "outputs": [
    {
     "name": "stdout",
     "output_type": "stream",
     "text": [
      "['BackEnd', 'DataEngr', 'DataSci', 'DevOps', 'FrontEnd', 'FullStack', 'GameDev', 'InfoSec', 'Mobile', 'QAEngr', 'UX']\n"
     ]
    }
   ],
   "source": [
    "print(job_interests)"
   ]
  },
  {
   "cell_type": "code",
   "execution_count": 60,
   "metadata": {
    "collapsed": false
   },
   "outputs": [
    {
     "data": {
      "text/html": [
       "<div>\n",
       "<style scoped>\n",
       "    .dataframe tbody tr th:only-of-type {\n",
       "        vertical-align: middle;\n",
       "    }\n",
       "\n",
       "    .dataframe tbody tr th {\n",
       "        vertical-align: top;\n",
       "    }\n",
       "\n",
       "    .dataframe thead th {\n",
       "        text-align: right;\n",
       "    }\n",
       "</style>\n",
       "<table border=\"1\" class=\"dataframe\">\n",
       "  <thead>\n",
       "    <tr style=\"text-align: right;\">\n",
       "      <th></th>\n",
       "      <th>Percentage</th>\n",
       "    </tr>\n",
       "  </thead>\n",
       "  <tbody>\n",
       "    <tr>\n",
       "      <th>QAEngr</th>\n",
       "      <td>7.24%</td>\n",
       "    </tr>\n",
       "    <tr>\n",
       "      <th>FullStack</th>\n",
       "      <td>65.83%</td>\n",
       "    </tr>\n",
       "    <tr>\n",
       "      <th>FrontEnd</th>\n",
       "      <td>53.53%</td>\n",
       "    </tr>\n",
       "    <tr>\n",
       "      <th>BackEnd</th>\n",
       "      <td>41.0%</td>\n",
       "    </tr>\n",
       "    <tr>\n",
       "      <th>Mobile</th>\n",
       "      <td>32.36%</td>\n",
       "    </tr>\n",
       "    <tr>\n",
       "      <th>DataSci</th>\n",
       "      <td>23.24%</td>\n",
       "    </tr>\n",
       "    <tr>\n",
       "      <th>UX</th>\n",
       "      <td>20.61%</td>\n",
       "    </tr>\n",
       "    <tr>\n",
       "      <th>GameDev</th>\n",
       "      <td>19.87%</td>\n",
       "    </tr>\n",
       "    <tr>\n",
       "      <th>DataEngr</th>\n",
       "      <td>16.44%</td>\n",
       "    </tr>\n",
       "    <tr>\n",
       "      <th>InfoSec</th>\n",
       "      <td>16.07%</td>\n",
       "    </tr>\n",
       "    <tr>\n",
       "      <th>DevOps</th>\n",
       "      <td>13.48%</td>\n",
       "    </tr>\n",
       "  </tbody>\n",
       "</table>\n",
       "</div>"
      ],
      "text/plain": [
       "          Percentage\n",
       "QAEngr         7.24%\n",
       "FullStack     65.83%\n",
       "FrontEnd      53.53%\n",
       "BackEnd        41.0%\n",
       "Mobile        32.36%\n",
       "DataSci       23.24%\n",
       "UX            20.61%\n",
       "GameDev       19.87%\n",
       "DataEngr      16.44%\n",
       "InfoSec       16.07%\n",
       "DevOps        13.48%"
      ]
     },
     "execution_count": 60,
     "metadata": {},
     "output_type": "execute_result"
    }
   ],
   "source": [
    "interests_count = dict()\n",
    "\n",
    "for jobs in potentional_customers[\"Job Interest\"]: \n",
    "    for job in jobs: \n",
    "        if job in interests_count:\n",
    "            interests_count[job] += 1\n",
    "        else:\n",
    "            interests_count[job] = 1\n",
    "    \n",
    "index = [0]\n",
    "df = pd.DataFrame(interests_count, index=index).T\n",
    "df.columns = [\"Percentage\"]\n",
    "df[\"Percentage\"] = df[\"Percentage\"].apply(lambda x: str(round(x / potentional_customers[\"Job Interest\"].shape[0] * 100, 2)) + \"%\")\n",
    "df.sort_values(by = \"Percentage\", ascending = False)"
   ]
  },
  {
   "cell_type": "markdown",
   "metadata": {},
   "source": [
    "The most popular fields among potentional customers are Web development, Mobile development and Data Science.\n",
    "The next step is find the average age of potentional customers. "
   ]
  },
  {
   "cell_type": "code",
   "execution_count": 70,
   "metadata": {
    "collapsed": false
   },
   "outputs": [
    {
     "data": {
      "text/plain": [
       "<matplotlib.legend.Legend at 0x7f564a79a160>"
      ]
     },
     "execution_count": 70,
     "metadata": {},
     "output_type": "execute_result"
    },
    {
     "data": {
      "image/png": "[encoded data removed]",
      "text/plain": [
       "<matplotlib.figure.Figure at 0x7f564aa01940>"
      ]
     },
     "metadata": {},
     "output_type": "display_data"
    }
   ],
   "source": [
    "%matplotlib inline\n",
    "potentional_customers[\"Age\"].plot.hist(grid = False, label = \"Age distribution\")\n",
    "plt.axvline(potentional_customers[\"Age\"].mean(), color = \"red\", label = \"mean\")\n",
    "plt.xlabel(\"Age\")\n",
    "plt.legend()"
   ]
  },
  {
   "cell_type": "markdown",
   "metadata": {
    "collapsed": true
   },
   "source": [
    "Now, we would like to know which countries the most frequent among all countries. This will help us to determine on which country it's the best to focus on."
   ]
  },
  {
   "cell_type": "code",
   "execution_count": 86,
   "metadata": {
    "collapsed": false
   },
   "outputs": [
    {
     "data": {
      "text/plain": [
       "<matplotlib.legend.Legend at 0x7f56469af5f8>"
      ]
     },
     "execution_count": 86,
     "metadata": {},
     "output_type": "execute_result"
    },
    {
     "data": {
      "image/png": "[encoded data removed]",
      "text/plain": [
       "<matplotlib.figure.Figure at 0x7f56469afa20>"
      ]
     },
     "metadata": {},
     "output_type": "display_data"
    }
   ],
   "source": [
    "countries_freq = potentional_customers[\"CountryLive\"].value_counts(normalize = True).sort_values(ascending = False).apply(lambda x: round(x * 100,2))\n",
    "countries_freq = countries_freq[countries_freq[:] > 1]\n",
    "countries_freq.plot.barh(label = \"Proportion%\", figsize = (10,8))\n",
    "plt.legend()"
   ]
  },
  {
   "cell_type": "markdown",
   "metadata": {},
   "source": [
    "As we can see US has 51% followed by India with 7%, and UK with 4%. We can conclude that company should focus on audince from these countries.\n",
    "Let's see the gender distribution"
   ]
  },
  {
   "cell_type": "code",
   "execution_count": 92,
   "metadata": {
    "collapsed": false
   },
   "outputs": [
    {
     "data": {
      "text/plain": [
       "<matplotlib.legend.Legend at 0x7f56467ff0b8>"
      ]
     },
     "execution_count": 92,
     "metadata": {},
     "output_type": "execute_result"
    },
    {
     "data": {
      "image/png": "[encoded data removed]",
      "text/plain": [
       "<matplotlib.figure.Figure at 0x7f56467782b0>"
      ]
     },
     "metadata": {},
     "output_type": "display_data"
    }
   ],
   "source": [
    "gender_freq = potentional_customers[\"Gender\"].value_counts(normalize = True).sort_values(ascending = False).apply(lambda x: round(x * 100,2))\n",
    "gender_freq.plot.barh(label = \"Gender distribution%\", figsize = (8,6), color = \"red\")\n",
    "plt.legend()"
   ]
  },
  {
   "cell_type": "markdown",
   "metadata": {},
   "source": [
    "We have proportion of male around 76% and female around 22%.\n",
    "Let's figure what kind of education have our sample"
   ]
  },
  {
   "cell_type": "code",
   "execution_count": 103,
   "metadata": {
    "collapsed": false
   },
   "outputs": [
    {
     "data": {
      "text/plain": [
       "<matplotlib.axes._subplots.AxesSubplot at 0x7f5646465438>"
      ]
     },
     "execution_count": 103,
     "metadata": {},
     "output_type": "execute_result"
    },
    {
     "data": {
      "image/png": "[encoded data removed]",
      "text/plain": [
       "<matplotlib.figure.Figure at 0x7f564646d978>"
      ]
     },
     "metadata": {},
     "output_type": "display_data"
    }
   ],
   "source": [
    "education_dist = potentional_customers[\"SchoolDegree\"].value_counts(normalize = True).sort_values(ascending = False).apply(lambda x: round(x * 100, 2))\n",
    "education_dist.plot.pie(figsize = (12,12), autopct = \"%1.1f%%\", label = \"\")"
   ]
  },
  {
   "cell_type": "markdown",
   "metadata": {},
   "source": [
    "We can see that 60% from sample has a at least university degree, 20% college credits, 10% high school diploma, etc.\n",
    "The next step is find the average amount of money that country can spend on courses."
   ]
  },
  {
   "cell_type": "code",
   "execution_count": 111,
   "metadata": {
    "collapsed": false
   },
   "outputs": [
    {
     "data": {
      "text/html": [
       "<div>\n",
       "<style scoped>\n",
       "    .dataframe tbody tr th:only-of-type {\n",
       "        vertical-align: middle;\n",
       "    }\n",
       "\n",
       "    .dataframe tbody tr th {\n",
       "        vertical-align: top;\n",
       "    }\n",
       "\n",
       "    .dataframe thead th {\n",
       "        text-align: right;\n",
       "    }\n",
       "</style>\n",
       "<table border=\"1\" class=\"dataframe\">\n",
       "  <thead>\n",
       "    <tr style=\"text-align: right;\">\n",
       "      <th></th>\n",
       "      <th>MoneyForLearning</th>\n",
       "    </tr>\n",
       "    <tr>\n",
       "      <th>CountryLive</th>\n",
       "      <th></th>\n",
       "    </tr>\n",
       "  </thead>\n",
       "  <tbody>\n",
       "    <tr>\n",
       "      <th>Sri Lanka</th>\n",
       "      <td>2600.000000</td>\n",
       "    </tr>\n",
       "    <tr>\n",
       "      <th>Niger</th>\n",
       "      <td>2514.500000</td>\n",
       "    </tr>\n",
       "    <tr>\n",
       "      <th>Taiwan</th>\n",
       "      <td>2470.000000</td>\n",
       "    </tr>\n",
       "    <tr>\n",
       "      <th>Israel</th>\n",
       "      <td>2309.500000</td>\n",
       "    </tr>\n",
       "    <tr>\n",
       "      <th>Portugal</th>\n",
       "      <td>1955.714286</td>\n",
       "    </tr>\n",
       "  </tbody>\n",
       "</table>\n",
       "</div>"
      ],
      "text/plain": [
       "             MoneyForLearning\n",
       "CountryLive                  \n",
       "Sri Lanka         2600.000000\n",
       "Niger             2514.500000\n",
       "Taiwan            2470.000000\n",
       "Israel            2309.500000\n",
       "Portugal          1955.714286"
      ]
     },
     "execution_count": 111,
     "metadata": {},
     "output_type": "execute_result"
    }
   ],
   "source": [
    "country_budgets = potentional_customers[[\"CountryLive\", \"MoneyForLearning\"]].groupby(by=\"CountryLive\").mean().sort_values(by=\"MoneyForLearning\", ascending=False)\n",
    "country_budgets.head()"
   ]
  },
  {
   "cell_type": "code",
   "execution_count": 122,
   "metadata": {
    "collapsed": false
   },
   "outputs": [
    {
     "data": {
      "text/plain": [
       "<matplotlib.lines.Line2D at 0x7f564601d390>"
      ]
     },
     "execution_count": 122,
     "metadata": {},
     "output_type": "execute_result"
    },
    {
     "data": {
      "image/png": "[encoded data removed]",
      "text/plain": [
       "<matplotlib.figure.Figure at 0x7f5646083f28>"
      ]
     },
     "metadata": {},
     "output_type": "display_data"
    }
   ],
   "source": [
    "selected_countries = [x for x in countries_freq.index]\n",
    "\n",
    "top_countries_budget = country_budgets.loc[selected_countries].sort_values(by = \"MoneyForLearning\")\n",
    "top_countries_budget.plot.barh(label = \"Average amount money for learning\", figsize = (10,8))\n",
    "plt.axvline(top_countries_budget[\"MoneyForLearning\"].mean(), label = \"mean\", color = \"green\")"
   ]
  },
  {
   "cell_type": "markdown",
   "metadata": {},
   "source": [
    "Spain, Australia, Nigeria, US are ready to spend money more than average countries. Now, let's multiply countries budget with population"
   ]
  },
  {
   "cell_type": "code",
   "execution_count": 149,
   "metadata": {
    "collapsed": false
   },
   "outputs": [
    {
     "data": {
      "text/plain": [
       "<matplotlib.legend.Legend at 0x7f564566f320>"
      ]
     },
     "execution_count": 149,
     "metadata": {},
     "output_type": "execute_result"
    },
    {
     "data": {
      "image/png": "[encoded data removed]",
      "text/plain": [
       "<matplotlib.figure.Figure at 0x7f564566f3c8>"
      ]
     },
     "metadata": {},
     "output_type": "display_data"
    }
   ],
   "source": [
    "potentional_income = top_countries_budget.join(countries_freq)\n",
    "potentional_income.rename({\"CountryLive\" : \"Percentage\"}, axis = 1, inplace = True)\n",
    "potentional_income[\"Income\"] = round(potentional_income[\"MoneyForLearning\"] * potentional_income[\"Percentage\"], 1)\n",
    "potentional_income.sort_values(by = \"Income\", axis= 0,ascending = False, inplace = True)\n",
    "potentional_income[\"Income\"].plot.barh(figsize = (12,8), label = \"Potentional Income\")\n",
    "plt.axvline(potentional_income[\"Income\"].mean(), label = \"mean\", color = \"green\")\n",
    "plt.legend()"
   ]
  },
  {
   "cell_type": "code",
   "execution_count": 152,
   "metadata": {
    "collapsed": false
   },
   "outputs": [
    {
     "data": {
      "text/plain": [
       "<matplotlib.axes._subplots.AxesSubplot at 0x7f56454c8f98>"
      ]
     },
     "execution_count": 152,
     "metadata": {},
     "output_type": "execute_result"
    },
    {
     "data": {
      "image/png": "[encoded data removed]",
      "text/plain": [
       "<matplotlib.figure.Figure at 0x7f56454c82e8>"
      ]
     },
     "metadata": {},
     "output_type": "display_data"
    }
   ],
   "source": [
    "potentional_income[\"Income\"].plot.pie(figsize = (12,12), autopct = \"%1.1f%%\", label = \"\")"
   ]
  },
  {
   "cell_type": "markdown",
   "metadata": {},
   "source": [
    "We can see that the highest potentional income comes from US, followed by India and UK. Top-5 ends with Canada and Spain"
   ]
  },
  {
   "cell_type": "markdown",
   "metadata": {},
   "source": [
    "# Conclusion\n",
    "\n",
    "- Investing in US, India, UK, Canada, and Spain can bring the highest amount of money\n",
    "- More than 70% of audience are Male\n",
    "- The average age of potentional customer is 30 y.o.\n",
    "- at least 60% of our sample has university degree"
   ]
  }
 ],
 "metadata": {
  "kernelspec": {
   "display_name": "Python 3",
   "language": "python",
   "name": "python3"
  },
  "language_info": {
   "codemirror_mode": {
    "name": "ipython",
    "version": 3
   },
   "file_extension": ".py",
   "mimetype": "text/x-python",
   "name": "python",
   "nbconvert_exporter": "python",
   "pygments_lexer": "ipython3",
   "version": "3.4.3"
  }
 },
 "nbformat": 4,
 "nbformat_minor": 2
}
